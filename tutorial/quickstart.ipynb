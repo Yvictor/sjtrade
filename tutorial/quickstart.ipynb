{
 "cells": [
  {
   "cell_type": "markdown",
   "id": "64c680c8-827e-4e39-8923-52a9d96948b2",
   "metadata": {},
   "source": [
    "### Installation"
   ]
  },
  {
   "cell_type": "code",
   "execution_count": 30,
   "id": "6bc344bc-5fbb-42bb-926a-f3348f041599",
   "metadata": {},
   "outputs": [
    {
     "name": "stdout",
     "output_type": "stream",
     "text": [
      "Collecting sjtrade==0.2.0\n",
      "  Downloading sjtrade-0.2.0-py3-none-any.whl (7.5 kB)\n",
      "Requirement already satisfied: shioaji>=0.3.4.dev7 in /home/yvictor/.pyenv/versions/miniconda3-latest/lib/python3.7/site-packages (from sjtrade==0.2.0) (0.3.5.dev0)\n",
      "Requirement already satisfied: loguru in /home/yvictor/.pyenv/versions/miniconda3-latest/lib/python3.7/site-packages (from sjtrade==0.2.0) (0.6.0)\n",
      "Requirement already satisfied: filelock in /home/yvictor/.pyenv/versions/miniconda3-latest/lib/python3.7/site-packages (from shioaji>=0.3.4.dev7->sjtrade==0.2.0) (3.4.1)\n",
      "Requirement already satisfied: sentry-sdk==1.5.12 in /home/yvictor/.pyenv/versions/miniconda3-latest/lib/python3.7/site-packages (from shioaji>=0.3.4.dev7->sjtrade==0.2.0) (1.5.12)\n",
      "Requirement already satisfied: pysolace==0.9.20 in /home/yvictor/.pyenv/versions/miniconda3-latest/lib/python3.7/site-packages (from shioaji>=0.3.4.dev7->sjtrade==0.2.0) (0.9.20)\n",
      "Requirement already satisfied: importlib-metadata in /home/yvictor/.pyenv/versions/miniconda3-latest/lib/python3.7/site-packages (from shioaji>=0.3.4.dev7->sjtrade==0.2.0) (4.2.0)\n",
      "Requirement already satisfied: requests in /home/yvictor/.pyenv/versions/miniconda3-latest/lib/python3.7/site-packages (from shioaji>=0.3.4.dev7->sjtrade==0.2.0) (2.27.1)\n",
      "Requirement already satisfied: xxhash in /home/yvictor/.pyenv/versions/miniconda3-latest/lib/python3.7/site-packages (from shioaji>=0.3.4.dev7->sjtrade==0.2.0) (2.0.2)\n",
      "Requirement already satisfied: typing-extensions==4.0.1 in /home/yvictor/.pyenv/versions/miniconda3-latest/lib/python3.7/site-packages (from shioaji>=0.3.4.dev7->sjtrade==0.2.0) (4.0.1)\n",
      "Requirement already satisfied: pydantic in /home/yvictor/.pyenv/versions/miniconda3-latest/lib/python3.7/site-packages (from shioaji>=0.3.4.dev7->sjtrade==0.2.0) (1.9.1)\n",
      "Requirement already satisfied: orjson in /home/yvictor/.pyenv/versions/miniconda3-latest/lib/python3.7/site-packages (from pysolace==0.9.20->shioaji>=0.3.4.dev7->sjtrade==0.2.0) (3.3.1)\n",
      "Requirement already satisfied: msgpack in /home/yvictor/.pyenv/versions/miniconda3-latest/lib/python3.7/site-packages (from pysolace==0.9.20->shioaji>=0.3.4.dev7->sjtrade==0.2.0) (1.0.3)\n",
      "Requirement already satisfied: urllib3>=1.10.0 in /home/yvictor/.pyenv/versions/miniconda3-latest/lib/python3.7/site-packages (from sentry-sdk==1.5.12->shioaji>=0.3.4.dev7->sjtrade==0.2.0) (1.26.9)\n",
      "Requirement already satisfied: certifi in /home/yvictor/.pyenv/versions/miniconda3-latest/lib/python3.7/site-packages (from sentry-sdk==1.5.12->shioaji>=0.3.4.dev7->sjtrade==0.2.0) (2022.5.18.1)\n",
      "Requirement already satisfied: zipp>=0.5 in /home/yvictor/.pyenv/versions/miniconda3-latest/lib/python3.7/site-packages (from importlib-metadata->shioaji>=0.3.4.dev7->sjtrade==0.2.0) (3.8.0)\n",
      "Requirement already satisfied: charset-normalizer~=2.0.0 in /home/yvictor/.pyenv/versions/miniconda3-latest/lib/python3.7/site-packages (from requests->shioaji>=0.3.4.dev7->sjtrade==0.2.0) (2.0.12)\n",
      "Requirement already satisfied: idna<4,>=2.5 in /home/yvictor/.pyenv/versions/miniconda3-latest/lib/python3.7/site-packages (from requests->shioaji>=0.3.4.dev7->sjtrade==0.2.0) (3.3)\n",
      "Installing collected packages: sjtrade\n",
      "  Attempting uninstall: sjtrade\n",
      "    Found existing installation: sjtrade 0.1.1\n",
      "    Uninstalling sjtrade-0.1.1:\n",
      "      Successfully uninstalled sjtrade-0.1.1\n",
      "Successfully installed sjtrade-0.2.0\n",
      "\u001b[33mWARNING: You are using pip version 22.0.3; however, version 22.1.2 is available.\n",
      "You should consider upgrading via the '/home/yvictor/.pyenv/versions/miniconda3-latest/bin/python -m pip install --upgrade pip' command.\u001b[0m\u001b[33m\n",
      "\u001b[0mNote: you may need to restart the kernel to use updated packages.\n"
     ]
    }
   ],
   "source": [
    "%pip install -U sjtrade"
   ]
  },
  {
   "cell_type": "markdown",
   "id": "84e3193a-e19f-41c8-95af-e731bf32ca46",
   "metadata": {},
   "source": [
    "### Get Start"
   ]
  },
  {
   "cell_type": "code",
   "execution_count": 1,
   "id": "36609bb7-2672-4ded-ba12-d5a1c971cb22",
   "metadata": {},
   "outputs": [],
   "source": [
    "import json\n",
    "from pathlib import Path\n",
    "p = Path(\"login.json\")\n",
    "login_kws = json.loads(p.read_text())"
   ]
  },
  {
   "cell_type": "code",
   "execution_count": 2,
   "id": "1b875f6c-32d6-4828-9712-cdab83046487",
   "metadata": {},
   "outputs": [],
   "source": [
    "import shioaji as sj\n",
    "import sjtrade"
   ]
  },
  {
   "cell_type": "markdown",
   "id": "3bfa5e90-72dd-4122-a0c5-01cdef77d96c",
   "metadata": {},
   "source": [
    "##### Init Shioaji and SjTrader"
   ]
  },
  {
   "cell_type": "code",
   "execution_count": 13,
   "id": "83373803-758f-41fe-8dcd-55d2b69055b9",
   "metadata": {},
   "outputs": [
    {
     "name": "stdout",
     "output_type": "stream",
     "text": [
      "Response Code: 0 | Event Code: 0 | Info: host '203.66.91.161:80', IP 203.66.91.161:80 (host 1 of 1) (host connection attempt 1 of 1) (total connection attempt 1 of 1) | Event: Session up\n"
     ]
    }
   ],
   "source": [
    "api = sj.Shioaji()\n",
    "accounts = api.login(**login_kws)\n",
    "sjtrader = sjtrade.SJTrader(api)"
   ]
  },
  {
   "cell_type": "markdown",
   "id": "f2123373-148c-4909-aa66-20f4150d06f0",
   "metadata": {},
   "source": [
    "##### Set Position Filepath and Preview Position"
   ]
  },
  {
   "cell_type": "code",
   "execution_count": 31,
   "id": "a45fc441-c6d1-495a-a213-987c5bf8a345",
   "metadata": {},
   "outputs": [
    {
     "data": {
      "text/plain": [
       "{'1524': -18,\n",
       " '2359': 10,\n",
       " '3141': -2,\n",
       " '3265': 6,\n",
       " '4133': 6,\n",
       " '5608': -6,\n",
       " '6104': -1,\n",
       " '6470': -4}"
      ]
     },
     "execution_count": 31,
     "metadata": {},
     "output_type": "execute_result"
    }
   ],
   "source": [
    "sjtrader.position_filepath = \"position.txt\"\n",
    "sjtrade.io.file.read_position(sjtrader.position_filepath)"
   ]
  },
  {
   "cell_type": "markdown",
   "id": "acb80a6b-7c89-4576-9dea-97597cb05ea1",
   "metadata": {
    "tags": []
   },
   "source": [
    "##### Set entry_pct stop_profit_pct stop_loss_pct"
   ]
  },
  {
   "cell_type": "code",
   "execution_count": 26,
   "id": "36622980-4a67-4208-995a-83422f0159e1",
   "metadata": {},
   "outputs": [],
   "source": [
    "sjtrader.entry_pct = 0.05\n",
    "sjtrader.stop_profit_pct = 0.095\n",
    "sjtrader.stop_loss_pct = 0.09"
   ]
  },
  {
   "cell_type": "code",
   "execution_count": 24,
   "id": "720c1808-2b8c-407c-90ca-36d2e9e43dca",
   "metadata": {},
   "outputs": [],
   "source": [
    "sjtrader.start()"
   ]
  },
  {
   "cell_type": "markdown",
   "id": "c7633e9d-e4bd-496b-a893-f9358cb4f4d8",
   "metadata": {},
   "source": [
    "##### What do sjtrader start actually execute"
   ]
  },
  {
   "cell_type": "code",
   "execution_count": 25,
   "id": "f7da034d-dfde-4250-a84c-71d1863b64ed",
   "metadata": {},
   "outputs": [
    {
     "data": {
      "text/plain": [
       "\u001b[0;31mSignature:\u001b[0m \u001b[0msjtrader\u001b[0m\u001b[0;34m.\u001b[0m\u001b[0mstart\u001b[0m\u001b[0;34m(\u001b[0m\u001b[0;34m)\u001b[0m\u001b[0;34m\u001b[0m\u001b[0;34m\u001b[0m\u001b[0m\n",
       "\u001b[0;31mDocstring:\u001b[0m <no docstring>\n",
       "\u001b[0;31mSource:\u001b[0m   \n",
       "    \u001b[0;32mdef\u001b[0m \u001b[0mstart\u001b[0m\u001b[0;34m(\u001b[0m\u001b[0mself\u001b[0m\u001b[0;34m)\u001b[0m\u001b[0;34m:\u001b[0m\u001b[0;34m\u001b[0m\n",
       "\u001b[0;34m\u001b[0m        \u001b[0mpositions\u001b[0m \u001b[0;34m=\u001b[0m \u001b[0mread_position\u001b[0m\u001b[0;34m(\u001b[0m\u001b[0mself\u001b[0m\u001b[0;34m.\u001b[0m\u001b[0m_position_filepath\u001b[0m\u001b[0;34m)\u001b[0m\u001b[0;34m\u001b[0m\n",
       "\u001b[0;34m\u001b[0m        \u001b[0mself\u001b[0m\u001b[0;34m.\u001b[0m\u001b[0mapi\u001b[0m\u001b[0;34m.\u001b[0m\u001b[0mset_order_callback\u001b[0m\u001b[0;34m(\u001b[0m\u001b[0mself\u001b[0m\u001b[0;34m.\u001b[0m\u001b[0morder_deal_handler\u001b[0m\u001b[0;34m)\u001b[0m\u001b[0;34m\u001b[0m\n",
       "\u001b[0;34m\u001b[0m        \u001b[0msleep_until\u001b[0m\u001b[0;34m(\u001b[0m\u001b[0;36m8\u001b[0m\u001b[0;34m,\u001b[0m \u001b[0;36m45\u001b[0m\u001b[0;34m)\u001b[0m\u001b[0;34m\u001b[0m\n",
       "\u001b[0;34m\u001b[0m        \u001b[0mself\u001b[0m\u001b[0;34m.\u001b[0m\u001b[0mplace_entry_order\u001b[0m\u001b[0;34m(\u001b[0m\u001b[0mpositions\u001b[0m\u001b[0;34m,\u001b[0m \u001b[0mself\u001b[0m\u001b[0;34m.\u001b[0m\u001b[0mentry_pct\u001b[0m\u001b[0;34m)\u001b[0m\u001b[0;34m\u001b[0m\n",
       "\u001b[0;34m\u001b[0m        \u001b[0msleep_until\u001b[0m\u001b[0;34m(\u001b[0m\u001b[0;36m8\u001b[0m\u001b[0;34m,\u001b[0m \u001b[0;36m54\u001b[0m\u001b[0;34m,\u001b[0m \u001b[0;36m59\u001b[0m\u001b[0;34m)\u001b[0m\u001b[0;34m\u001b[0m\n",
       "\u001b[0;34m\u001b[0m        \u001b[0mself\u001b[0m\u001b[0;34m.\u001b[0m\u001b[0mapi\u001b[0m\u001b[0;34m.\u001b[0m\u001b[0mquote\u001b[0m\u001b[0;34m.\u001b[0m\u001b[0mset_on_tick_stk_v1_callback\u001b[0m\u001b[0;34m(\u001b[0m\u001b[0mself\u001b[0m\u001b[0;34m.\u001b[0m\u001b[0mcancel_preorder_handler\u001b[0m\u001b[0;34m)\u001b[0m\u001b[0;34m\u001b[0m\n",
       "\u001b[0;34m\u001b[0m        \u001b[0msleep_until\u001b[0m\u001b[0;34m(\u001b[0m\u001b[0;36m8\u001b[0m\u001b[0;34m,\u001b[0m \u001b[0;36m59\u001b[0m\u001b[0;34m,\u001b[0m \u001b[0;36m55\u001b[0m\u001b[0;34m)\u001b[0m\u001b[0;34m\u001b[0m\n",
       "\u001b[0;34m\u001b[0m        \u001b[0mself\u001b[0m\u001b[0;34m.\u001b[0m\u001b[0mapi\u001b[0m\u001b[0;34m.\u001b[0m\u001b[0mquote\u001b[0m\u001b[0;34m.\u001b[0m\u001b[0mset_on_tick_stk_v1_callback\u001b[0m\u001b[0;34m(\u001b[0m\u001b[0mself\u001b[0m\u001b[0;34m.\u001b[0m\u001b[0mintraday_handler\u001b[0m\u001b[0;34m)\u001b[0m\u001b[0;34m\u001b[0m\n",
       "\u001b[0;34m\u001b[0m        \u001b[0msleep_until\u001b[0m\u001b[0;34m(\u001b[0m\u001b[0;36m13\u001b[0m\u001b[0;34m,\u001b[0m \u001b[0;36m25\u001b[0m\u001b[0;34m,\u001b[0m \u001b[0;36m59\u001b[0m\u001b[0;34m)\u001b[0m\u001b[0;34m\u001b[0m\n",
       "\u001b[0;34m\u001b[0m        \u001b[0mself\u001b[0m\u001b[0;34m.\u001b[0m\u001b[0mopen_position_cover\u001b[0m\u001b[0;34m(\u001b[0m\u001b[0;34m)\u001b[0m\u001b[0;34m\u001b[0m\u001b[0;34m\u001b[0m\u001b[0m\n",
       "\u001b[0;31mFile:\u001b[0m      ~/.pyenv/versions/miniconda3-latest/lib/python3.7/site-packages/sjtrade/trader.py\n",
       "\u001b[0;31mType:\u001b[0m      method\n"
      ]
     },
     "metadata": {},
     "output_type": "display_data"
    }
   ],
   "source": [
    "sjtrader.start??"
   ]
  },
  {
   "cell_type": "markdown",
   "id": "d6752389-e70a-4a88-ad86-13b794d8252a",
   "metadata": {},
   "source": [
    "### Simulation\n",
    "all order will be place as success and deal when price touch"
   ]
  },
  {
   "cell_type": "code",
   "execution_count": 3,
   "id": "22b2cfb3-201e-4d63-8b25-ab068b4ab12b",
   "metadata": {},
   "outputs": [
    {
     "name": "stdout",
     "output_type": "stream",
     "text": [
      "Response Code: 0 | Event Code: 0 | Info: host '203.66.91.161:80', IP 203.66.91.161:80 (host 1 of 1) (host connection attempt 1 of 1) (total connection attempt 1 of 1) | Event: Session up\n"
     ]
    }
   ],
   "source": [
    "api = sj.Shioaji()\n",
    "accounts = api.login(**login_kws)\n",
    "sjtrader = sjtrade.SJTrader(api, simulation=True)"
   ]
  },
  {
   "cell_type": "code",
   "execution_count": 4,
   "id": "e06f222c-091f-4373-ba1a-8687462b81d6",
   "metadata": {},
   "outputs": [
    {
     "data": {
      "text/plain": [
       "{'1524': -18,\n",
       " '2359': 10,\n",
       " '3141': -2,\n",
       " '3265': 6,\n",
       " '4133': 6,\n",
       " '5608': -6,\n",
       " '6104': -1,\n",
       " '6470': -4}"
      ]
     },
     "execution_count": 4,
     "metadata": {},
     "output_type": "execute_result"
    }
   ],
   "source": [
    "sjtrader.position_filepath = \"position.txt\"\n",
    "sjtrade.io.file.read_position(sjtrader.position_filepath)"
   ]
  },
  {
   "cell_type": "code",
   "execution_count": 5,
   "id": "f698f3e0-f4bb-4a1d-9526-c4c9a8680784",
   "metadata": {},
   "outputs": [],
   "source": [
    "sjtrader.entry_pct = 0.05\n",
    "sjtrader.stop_profit_pct = 0.095\n",
    "sjtrader.stop_loss_pct = 0.09"
   ]
  },
  {
   "cell_type": "code",
   "execution_count": 7,
   "id": "ec370364-93dd-4fc2-a749-aa8aa42b354b",
   "metadata": {},
   "outputs": [],
   "source": [
    "sjtrader.start()"
   ]
  },
  {
   "cell_type": "markdown",
   "id": "993f2db8-b770-4877-be43-93d354571ad2",
   "metadata": {},
   "source": [
    "### Notifications "
   ]
  },
  {
   "cell_type": "code",
   "execution_count": 12,
   "id": "abea6098-55b9-4b40-96d4-3554c46dd645",
   "metadata": {},
   "outputs": [
    {
     "name": "stdout",
     "output_type": "stream",
     "text": [
      "Collecting notifiers\n",
      "  Downloading notifiers-1.3.3-py3-none-any.whl (43 kB)\n",
      "\u001b[2K     \u001b[90m━━━━━━━━━━━━━━━━━━━━━━━━━━━━━━━━━━━━━━━━\u001b[0m \u001b[32m44.0/44.0 KB\u001b[0m \u001b[31m1.3 MB/s\u001b[0m eta \u001b[36m0:00:00\u001b[0m\n",
      "\u001b[?25hRequirement already satisfied: requests<3.0.0,>=2.27.1 in /home/yvictor/.pyenv/versions/miniconda3-latest/lib/python3.7/site-packages (from notifiers) (2.27.1)\n",
      "Collecting jsonschema<5.0.0,>=4.4.0\n",
      "  Downloading jsonschema-4.6.0-py3-none-any.whl (80 kB)\n",
      "\u001b[2K     \u001b[90m━━━━━━━━━━━━━━━━━━━━━━━━━━━━━━━━━━━━━━━━\u001b[0m \u001b[32m80.4/80.4 KB\u001b[0m \u001b[31m1.7 MB/s\u001b[0m eta \u001b[36m0:00:00\u001b[0ma \u001b[36m0:00:01\u001b[0m\n",
      "\u001b[?25hRequirement already satisfied: click<9.0.0,>=8.0.3 in /home/yvictor/.pyenv/versions/miniconda3-latest/lib/python3.7/site-packages (from notifiers) (8.0.4)\n",
      "Requirement already satisfied: importlib-metadata in /home/yvictor/.pyenv/versions/miniconda3-latest/lib/python3.7/site-packages (from click<9.0.0,>=8.0.3->notifiers) (4.2.0)\n",
      "Requirement already satisfied: attrs>=17.4.0 in /home/yvictor/.pyenv/versions/miniconda3-latest/lib/python3.7/site-packages (from jsonschema<5.0.0,>=4.4.0->notifiers) (21.4.0)\n",
      "Requirement already satisfied: pyrsistent!=0.17.0,!=0.17.1,!=0.17.2,>=0.14.0 in /home/yvictor/.pyenv/versions/miniconda3-latest/lib/python3.7/site-packages (from jsonschema<5.0.0,>=4.4.0->notifiers) (0.18.0)\n",
      "Collecting importlib-resources>=1.4.0\n",
      "  Downloading importlib_resources-5.7.1-py3-none-any.whl (28 kB)\n",
      "Requirement already satisfied: typing-extensions in /home/yvictor/.pyenv/versions/miniconda3-latest/lib/python3.7/site-packages (from jsonschema<5.0.0,>=4.4.0->notifiers) (4.0.1)\n",
      "Requirement already satisfied: urllib3<1.27,>=1.21.1 in /home/yvictor/.pyenv/versions/miniconda3-latest/lib/python3.7/site-packages (from requests<3.0.0,>=2.27.1->notifiers) (1.26.9)\n",
      "Requirement already satisfied: idna<4,>=2.5 in /home/yvictor/.pyenv/versions/miniconda3-latest/lib/python3.7/site-packages (from requests<3.0.0,>=2.27.1->notifiers) (3.3)\n",
      "Requirement already satisfied: charset-normalizer~=2.0.0 in /home/yvictor/.pyenv/versions/miniconda3-latest/lib/python3.7/site-packages (from requests<3.0.0,>=2.27.1->notifiers) (2.0.12)\n",
      "Requirement already satisfied: certifi>=2017.4.17 in /home/yvictor/.pyenv/versions/miniconda3-latest/lib/python3.7/site-packages (from requests<3.0.0,>=2.27.1->notifiers) (2022.5.18.1)\n",
      "Requirement already satisfied: zipp>=3.1.0 in /home/yvictor/.pyenv/versions/miniconda3-latest/lib/python3.7/site-packages (from importlib-resources>=1.4.0->jsonschema<5.0.0,>=4.4.0->notifiers) (3.8.0)\n",
      "Installing collected packages: importlib-resources, jsonschema, notifiers\n",
      "  Attempting uninstall: jsonschema\n",
      "    Found existing installation: jsonschema 3.2.0\n",
      "    Uninstalling jsonschema-3.2.0:\n",
      "      Successfully uninstalled jsonschema-3.2.0\n",
      "Successfully installed importlib-resources-5.7.1 jsonschema-4.6.0 notifiers-1.3.3\n",
      "\u001b[33mWARNING: You are using pip version 22.0.3; however, version 22.1.2 is available.\n",
      "You should consider upgrading via the '/home/yvictor/.pyenv/versions/miniconda3-latest/bin/python -m pip install --upgrade pip' command.\u001b[0m\u001b[33m\n",
      "\u001b[0mNote: you may need to restart the kernel to use updated packages.\n"
     ]
    }
   ],
   "source": [
    "%pip install notifiers"
   ]
  },
  {
   "cell_type": "markdown",
   "id": "cba0ce2c-10a7-4e37-82d4-714afdde5b41",
   "metadata": {},
   "source": [
    "##### Check notifiers"
   ]
  },
  {
   "cell_type": "code",
   "execution_count": 14,
   "id": "fdeca817-8b47-4501-9c6a-1c0de4df5564",
   "metadata": {},
   "outputs": [],
   "source": [
    "from notifiers import get_notifier"
   ]
  },
  {
   "cell_type": "code",
   "execution_count": 15,
   "id": "b00876a6-b426-4e84-bd95-a41b99d51008",
   "metadata": {},
   "outputs": [],
   "source": [
    "notifier = get_notifier(\"telegram\")"
   ]
  },
  {
   "cell_type": "code",
   "execution_count": 21,
   "id": "d4bf3e25-ba56-475c-b83a-1413c1b8c7b6",
   "metadata": {},
   "outputs": [],
   "source": [
    "TELECHATID = \"\"\n",
    "TELEBOT_TOKEN = \"\"\n",
    "PARAMS = {\"chat_id\": TELECHATID, \"token\": TELEBOT_TOKEN}"
   ]
  },
  {
   "cell_type": "code",
   "execution_count": 30,
   "id": "11efb1e9-95bd-4161-b2d1-0eea62c4c669",
   "metadata": {},
   "outputs": [],
   "source": [
    "# p = Path(\"telegram.json\")\n",
    "# PARAMS = json.loads(p.read_text())"
   ]
  },
  {
   "cell_type": "code",
   "execution_count": 22,
   "id": "fba6dae9-1859-4aa8-a215-61ff17e56905",
   "metadata": {},
   "outputs": [
    {
     "data": {
      "text/plain": [
       "<Response,provider=Telegram,status=Success, errors=None>"
      ]
     },
     "execution_count": 22,
     "metadata": {},
     "output_type": "execute_result"
    }
   ],
   "source": [
    "notifier.notify(message=\"test\", **PARAMS)"
   ]
  },
  {
   "cell_type": "markdown",
   "id": "bcbda33d-351c-4dec-a933-fdd5482562a0",
   "metadata": {},
   "source": [
    "##### Check logger"
   ]
  },
  {
   "cell_type": "code",
   "execution_count": 25,
   "id": "48619bae-5ce0-4c74-a20a-d0534ce870b7",
   "metadata": {},
   "outputs": [],
   "source": [
    "from loguru import logger\n",
    "from notifiers.logging import NotificationHandler"
   ]
  },
  {
   "cell_type": "code",
   "execution_count": 26,
   "id": "d99784f7-01cb-4a87-a8df-1f50c1d9e6d3",
   "metadata": {},
   "outputs": [
    {
     "data": {
      "text/plain": [
       "1"
      ]
     },
     "execution_count": 26,
     "metadata": {},
     "output_type": "execute_result"
    }
   ],
   "source": [
    "handler = NotificationHandler(\"telegram\", defaults=PARAMS)\n",
    "logger.add(handler, level=\"INFO\")"
   ]
  },
  {
   "cell_type": "code",
   "execution_count": 27,
   "id": "43f76f40-b601-48a5-b8b7-ec4d4ec4e677",
   "metadata": {},
   "outputs": [
    {
     "name": "stderr",
     "output_type": "stream",
     "text": [
      "2022-06-09 19:47:19.124 | INFO     | __main__:<module>:1 - logger test\n"
     ]
    }
   ],
   "source": [
    "logger.info(\"logger test\")"
   ]
  }
 ],
 "metadata": {
  "kernelspec": {
   "display_name": "Python 3 (ipykernel)",
   "language": "python",
   "name": "python3"
  },
  "language_info": {
   "codemirror_mode": {
    "name": "ipython",
    "version": 3
   },
   "file_extension": ".py",
   "mimetype": "text/x-python",
   "name": "python",
   "nbconvert_exporter": "python",
   "pygments_lexer": "ipython3",
   "version": "3.7.11"
  }
 },
 "nbformat": 4,
 "nbformat_minor": 5
}
