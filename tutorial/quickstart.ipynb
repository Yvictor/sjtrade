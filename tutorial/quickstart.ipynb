{
 "cells": [
  {
   "cell_type": "markdown",
   "id": "64c680c8-827e-4e39-8923-52a9d96948b2",
   "metadata": {},
   "source": [
    "### Installation"
   ]
  },
  {
   "cell_type": "code",
   "execution_count": null,
   "id": "6bc344bc-5fbb-42bb-926a-f3348f041599",
   "metadata": {},
   "outputs": [],
   "source": [
    "%pip install sjtrade"
   ]
  },
  {
   "cell_type": "markdown",
   "id": "84e3193a-e19f-41c8-95af-e731bf32ca46",
   "metadata": {},
   "source": [
    "### Get Start"
   ]
  },
  {
   "cell_type": "code",
   "execution_count": 12,
   "id": "36609bb7-2672-4ded-ba12-d5a1c971cb22",
   "metadata": {},
   "outputs": [],
   "source": [
    "import json\n",
    "from pathlib import Path\n",
    "p = Path(\"login.json\")\n",
    "login_kws = json.loads(p.read_text())"
   ]
  },
  {
   "cell_type": "code",
   "execution_count": 2,
   "id": "1b875f6c-32d6-4828-9712-cdab83046487",
   "metadata": {},
   "outputs": [],
   "source": [
    "import shioaji as sj\n",
    "import sjtrade"
   ]
  },
  {
   "cell_type": "markdown",
   "id": "3bfa5e90-72dd-4122-a0c5-01cdef77d96c",
   "metadata": {},
   "source": [
    "##### Init Shioaji and SjTrader"
   ]
  },
  {
   "cell_type": "code",
   "execution_count": 13,
   "id": "83373803-758f-41fe-8dcd-55d2b69055b9",
   "metadata": {},
   "outputs": [
    {
     "name": "stdout",
     "output_type": "stream",
     "text": [
      "Response Code: 0 | Event Code: 0 | Info: host '203.66.91.161:80', IP 203.66.91.161:80 (host 1 of 1) (host connection attempt 1 of 1) (total connection attempt 1 of 1) | Event: Session up\n"
     ]
    }
   ],
   "source": [
    "api = sj.Shioaji()\n",
    "accounts = api.login(**login_kws)\n",
    "sjtrader = sjtrade.SJTrader(api)"
   ]
  },
  {
   "cell_type": "markdown",
   "id": "f2123373-148c-4909-aa66-20f4150d06f0",
   "metadata": {},
   "source": [
    "##### Preview Position"
   ]
  },
  {
   "cell_type": "code",
   "execution_count": 23,
   "id": "a45fc441-c6d1-495a-a213-987c5bf8a345",
   "metadata": {},
   "outputs": [
    {
     "data": {
      "text/plain": [
       "{'1524': -18,\n",
       " '2359': 10,\n",
       " '3141': -2,\n",
       " '3265': 6,\n",
       " '4133': 6,\n",
       " '5608': -6,\n",
       " '6104': -1,\n",
       " '6470': -4}"
      ]
     },
     "execution_count": 23,
     "metadata": {},
     "output_type": "execute_result"
    }
   ],
   "source": [
    "sjtrade.io.file.read_position(sjtrader.position_filepath)"
   ]
  },
  {
   "cell_type": "markdown",
   "id": "acb80a6b-7c89-4576-9dea-97597cb05ea1",
   "metadata": {
    "tags": []
   },
   "source": [
    "##### Set entry_pct stop_profit_pct stop_loss_pct"
   ]
  },
  {
   "cell_type": "code",
   "execution_count": 26,
   "id": "36622980-4a67-4208-995a-83422f0159e1",
   "metadata": {},
   "outputs": [],
   "source": [
    "sjtrader.entry_pct = 0.05\n",
    "sjtrader.stop_profit_pct = 0.095\n",
    "sjtrader.stop_loss_pct = 0.09"
   ]
  },
  {
   "cell_type": "code",
   "execution_count": 24,
   "id": "720c1808-2b8c-407c-90ca-36d2e9e43dca",
   "metadata": {},
   "outputs": [],
   "source": [
    "sjtrader.start()"
   ]
  },
  {
   "cell_type": "markdown",
   "id": "c7633e9d-e4bd-496b-a893-f9358cb4f4d8",
   "metadata": {},
   "source": [
    "##### What do sjtrader start actually execute"
   ]
  },
  {
   "cell_type": "code",
   "execution_count": 25,
   "id": "f7da034d-dfde-4250-a84c-71d1863b64ed",
   "metadata": {},
   "outputs": [
    {
     "data": {
      "text/plain": [
       "\u001b[0;31mSignature:\u001b[0m \u001b[0msjtrader\u001b[0m\u001b[0;34m.\u001b[0m\u001b[0mstart\u001b[0m\u001b[0;34m(\u001b[0m\u001b[0;34m)\u001b[0m\u001b[0;34m\u001b[0m\u001b[0;34m\u001b[0m\u001b[0m\n",
       "\u001b[0;31mDocstring:\u001b[0m <no docstring>\n",
       "\u001b[0;31mSource:\u001b[0m   \n",
       "    \u001b[0;32mdef\u001b[0m \u001b[0mstart\u001b[0m\u001b[0;34m(\u001b[0m\u001b[0mself\u001b[0m\u001b[0;34m)\u001b[0m\u001b[0;34m:\u001b[0m\u001b[0;34m\u001b[0m\n",
       "\u001b[0;34m\u001b[0m        \u001b[0mpositions\u001b[0m \u001b[0;34m=\u001b[0m \u001b[0mread_position\u001b[0m\u001b[0;34m(\u001b[0m\u001b[0mself\u001b[0m\u001b[0;34m.\u001b[0m\u001b[0m_position_filepath\u001b[0m\u001b[0;34m)\u001b[0m\u001b[0;34m\u001b[0m\n",
       "\u001b[0;34m\u001b[0m        \u001b[0mself\u001b[0m\u001b[0;34m.\u001b[0m\u001b[0mapi\u001b[0m\u001b[0;34m.\u001b[0m\u001b[0mset_order_callback\u001b[0m\u001b[0;34m(\u001b[0m\u001b[0mself\u001b[0m\u001b[0;34m.\u001b[0m\u001b[0morder_deal_handler\u001b[0m\u001b[0;34m)\u001b[0m\u001b[0;34m\u001b[0m\n",
       "\u001b[0;34m\u001b[0m        \u001b[0msleep_until\u001b[0m\u001b[0;34m(\u001b[0m\u001b[0;36m8\u001b[0m\u001b[0;34m,\u001b[0m \u001b[0;36m45\u001b[0m\u001b[0;34m)\u001b[0m\u001b[0;34m\u001b[0m\n",
       "\u001b[0;34m\u001b[0m        \u001b[0mself\u001b[0m\u001b[0;34m.\u001b[0m\u001b[0mplace_entry_order\u001b[0m\u001b[0;34m(\u001b[0m\u001b[0mpositions\u001b[0m\u001b[0;34m,\u001b[0m \u001b[0mself\u001b[0m\u001b[0;34m.\u001b[0m\u001b[0mentry_pct\u001b[0m\u001b[0;34m)\u001b[0m\u001b[0;34m\u001b[0m\n",
       "\u001b[0;34m\u001b[0m        \u001b[0msleep_until\u001b[0m\u001b[0;34m(\u001b[0m\u001b[0;36m8\u001b[0m\u001b[0;34m,\u001b[0m \u001b[0;36m54\u001b[0m\u001b[0;34m,\u001b[0m \u001b[0;36m59\u001b[0m\u001b[0;34m)\u001b[0m\u001b[0;34m\u001b[0m\n",
       "\u001b[0;34m\u001b[0m        \u001b[0mself\u001b[0m\u001b[0;34m.\u001b[0m\u001b[0mapi\u001b[0m\u001b[0;34m.\u001b[0m\u001b[0mquote\u001b[0m\u001b[0;34m.\u001b[0m\u001b[0mset_on_tick_stk_v1_callback\u001b[0m\u001b[0;34m(\u001b[0m\u001b[0mself\u001b[0m\u001b[0;34m.\u001b[0m\u001b[0mcancel_preorder_handler\u001b[0m\u001b[0;34m)\u001b[0m\u001b[0;34m\u001b[0m\n",
       "\u001b[0;34m\u001b[0m        \u001b[0msleep_until\u001b[0m\u001b[0;34m(\u001b[0m\u001b[0;36m8\u001b[0m\u001b[0;34m,\u001b[0m \u001b[0;36m59\u001b[0m\u001b[0;34m,\u001b[0m \u001b[0;36m55\u001b[0m\u001b[0;34m)\u001b[0m\u001b[0;34m\u001b[0m\n",
       "\u001b[0;34m\u001b[0m        \u001b[0mself\u001b[0m\u001b[0;34m.\u001b[0m\u001b[0mapi\u001b[0m\u001b[0;34m.\u001b[0m\u001b[0mquote\u001b[0m\u001b[0;34m.\u001b[0m\u001b[0mset_on_tick_stk_v1_callback\u001b[0m\u001b[0;34m(\u001b[0m\u001b[0mself\u001b[0m\u001b[0;34m.\u001b[0m\u001b[0mintraday_handler\u001b[0m\u001b[0;34m)\u001b[0m\u001b[0;34m\u001b[0m\n",
       "\u001b[0;34m\u001b[0m        \u001b[0msleep_until\u001b[0m\u001b[0;34m(\u001b[0m\u001b[0;36m13\u001b[0m\u001b[0;34m,\u001b[0m \u001b[0;36m25\u001b[0m\u001b[0;34m,\u001b[0m \u001b[0;36m59\u001b[0m\u001b[0;34m)\u001b[0m\u001b[0;34m\u001b[0m\n",
       "\u001b[0;34m\u001b[0m        \u001b[0mself\u001b[0m\u001b[0;34m.\u001b[0m\u001b[0mopen_position_cover\u001b[0m\u001b[0;34m(\u001b[0m\u001b[0;34m)\u001b[0m\u001b[0;34m\u001b[0m\u001b[0;34m\u001b[0m\u001b[0m\n",
       "\u001b[0;31mFile:\u001b[0m      ~/.pyenv/versions/miniconda3-latest/lib/python3.7/site-packages/sjtrade/trader.py\n",
       "\u001b[0;31mType:\u001b[0m      method\n"
      ]
     },
     "metadata": {},
     "output_type": "display_data"
    }
   ],
   "source": [
    "sjtrader.start??"
   ]
  },
  {
   "cell_type": "code",
   "execution_count": null,
   "id": "97c5d928-de5a-488c-a5ce-05732f4c0ddd",
   "metadata": {},
   "outputs": [],
   "source": []
  }
 ],
 "metadata": {
  "kernelspec": {
   "display_name": "Python 3 (ipykernel)",
   "language": "python",
   "name": "python3"
  },
  "language_info": {
   "codemirror_mode": {
    "name": "ipython",
    "version": 3
   },
   "file_extension": ".py",
   "mimetype": "text/x-python",
   "name": "python",
   "nbconvert_exporter": "python",
   "pygments_lexer": "ipython3",
   "version": "3.7.11"
  }
 },
 "nbformat": 4,
 "nbformat_minor": 5
}
