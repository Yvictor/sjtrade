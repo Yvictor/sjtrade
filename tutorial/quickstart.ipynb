{
 "cells": [
  {
   "cell_type": "markdown",
   "id": "64c680c8-827e-4e39-8923-52a9d96948b2",
   "metadata": {},
   "source": [
    "### Installation"
   ]
  },
  {
   "cell_type": "code",
   "execution_count": 21,
   "id": "6bc344bc-5fbb-42bb-926a-f3348f041599",
   "metadata": {},
   "outputs": [
    {
     "name": "stdout",
     "output_type": "stream",
     "text": [
      "Collecting sjtrade==0.3.0\n",
      "  Downloading sjtrade-0.3.0-py3-none-any.whl (8.3 kB)\n",
      "Requirement already satisfied: shioaji>=0.3.4.dev7 in /home/yvictor/.pyenv/versions/miniconda3-latest/lib/python3.7/site-packages (from sjtrade==0.3.0) (0.3.5.dev0)\n",
      "Requirement already satisfied: loguru in /home/yvictor/.pyenv/versions/miniconda3-latest/lib/python3.7/site-packages (from sjtrade==0.3.0) (0.6.0)\n",
      "Requirement already satisfied: pydantic in /home/yvictor/.pyenv/versions/miniconda3-latest/lib/python3.7/site-packages (from shioaji>=0.3.4.dev7->sjtrade==0.3.0) (1.9.1)\n",
      "Requirement already satisfied: requests in /home/yvictor/.pyenv/versions/miniconda3-latest/lib/python3.7/site-packages (from shioaji>=0.3.4.dev7->sjtrade==0.3.0) (2.27.1)\n",
      "Requirement already satisfied: filelock in /home/yvictor/.pyenv/versions/miniconda3-latest/lib/python3.7/site-packages (from shioaji>=0.3.4.dev7->sjtrade==0.3.0) (3.4.1)\n",
      "Requirement already satisfied: xxhash in /home/yvictor/.pyenv/versions/miniconda3-latest/lib/python3.7/site-packages (from shioaji>=0.3.4.dev7->sjtrade==0.3.0) (2.0.2)\n",
      "Requirement already satisfied: importlib-metadata in /home/yvictor/.pyenv/versions/miniconda3-latest/lib/python3.7/site-packages (from shioaji>=0.3.4.dev7->sjtrade==0.3.0) (4.2.0)\n",
      "Requirement already satisfied: typing-extensions==4.0.1 in /home/yvictor/.pyenv/versions/miniconda3-latest/lib/python3.7/site-packages (from shioaji>=0.3.4.dev7->sjtrade==0.3.0) (4.0.1)\n",
      "Requirement already satisfied: sentry-sdk==1.5.12 in /home/yvictor/.pyenv/versions/miniconda3-latest/lib/python3.7/site-packages (from shioaji>=0.3.4.dev7->sjtrade==0.3.0) (1.5.12)\n",
      "Requirement already satisfied: pysolace==0.9.20 in /home/yvictor/.pyenv/versions/miniconda3-latest/lib/python3.7/site-packages (from shioaji>=0.3.4.dev7->sjtrade==0.3.0) (0.9.20)\n",
      "Requirement already satisfied: msgpack in /home/yvictor/.pyenv/versions/miniconda3-latest/lib/python3.7/site-packages (from pysolace==0.9.20->shioaji>=0.3.4.dev7->sjtrade==0.3.0) (1.0.3)\n",
      "Requirement already satisfied: orjson in /home/yvictor/.pyenv/versions/miniconda3-latest/lib/python3.7/site-packages (from pysolace==0.9.20->shioaji>=0.3.4.dev7->sjtrade==0.3.0) (3.3.1)\n",
      "Requirement already satisfied: certifi in /home/yvictor/.pyenv/versions/miniconda3-latest/lib/python3.7/site-packages (from sentry-sdk==1.5.12->shioaji>=0.3.4.dev7->sjtrade==0.3.0) (2022.5.18.1)\n",
      "Requirement already satisfied: urllib3>=1.10.0 in /home/yvictor/.pyenv/versions/miniconda3-latest/lib/python3.7/site-packages (from sentry-sdk==1.5.12->shioaji>=0.3.4.dev7->sjtrade==0.3.0) (1.26.9)\n",
      "Requirement already satisfied: zipp>=0.5 in /home/yvictor/.pyenv/versions/miniconda3-latest/lib/python3.7/site-packages (from importlib-metadata->shioaji>=0.3.4.dev7->sjtrade==0.3.0) (3.8.0)\n",
      "Requirement already satisfied: charset-normalizer~=2.0.0 in /home/yvictor/.pyenv/versions/miniconda3-latest/lib/python3.7/site-packages (from requests->shioaji>=0.3.4.dev7->sjtrade==0.3.0) (2.0.12)\n",
      "Requirement already satisfied: idna<4,>=2.5 in /home/yvictor/.pyenv/versions/miniconda3-latest/lib/python3.7/site-packages (from requests->shioaji>=0.3.4.dev7->sjtrade==0.3.0) (3.3)\n",
      "Installing collected packages: sjtrade\n",
      "  Attempting uninstall: sjtrade\n",
      "    Found existing installation: sjtrade 0.2.0\n",
      "    Uninstalling sjtrade-0.2.0:\n",
      "      Successfully uninstalled sjtrade-0.2.0\n",
      "Successfully installed sjtrade-0.3.0\n",
      "\u001b[33mWARNING: You are using pip version 22.0.3; however, version 22.1.2 is available.\n",
      "You should consider upgrading via the '/home/yvictor/.pyenv/versions/miniconda3-latest/bin/python -m pip install --upgrade pip' command.\u001b[0m\u001b[33m\n",
      "\u001b[0mNote: you may need to restart the kernel to use updated packages.\n"
     ]
    }
   ],
   "source": [
    "%pip install -U sjtrade"
   ]
  },
  {
   "cell_type": "markdown",
   "id": "84e3193a-e19f-41c8-95af-e731bf32ca46",
   "metadata": {},
   "source": [
    "### Get Start"
   ]
  },
  {
   "cell_type": "code",
   "execution_count": 1,
   "id": "36609bb7-2672-4ded-ba12-d5a1c971cb22",
   "metadata": {},
   "outputs": [],
   "source": [
    "import json\n",
    "from pathlib import Path\n",
    "p = Path(\"login.json\")\n",
    "login_kws = json.loads(p.read_text())"
   ]
  },
  {
   "cell_type": "code",
   "execution_count": 2,
   "id": "1b875f6c-32d6-4828-9712-cdab83046487",
   "metadata": {},
   "outputs": [],
   "source": [
    "import shioaji as sj\n",
    "import sjtrade"
   ]
  },
  {
   "cell_type": "markdown",
   "id": "3bfa5e90-72dd-4122-a0c5-01cdef77d96c",
   "metadata": {},
   "source": [
    "##### Init Shioaji and SjTrader"
   ]
  },
  {
   "cell_type": "code",
   "execution_count": 3,
   "id": "83373803-758f-41fe-8dcd-55d2b69055b9",
   "metadata": {},
   "outputs": [
    {
     "name": "stdout",
     "output_type": "stream",
     "text": [
      "Response Code: 0 | Event Code: 0 | Info: host '203.66.91.161:80', IP 203.66.91.161:80 (host 1 of 1) (host connection attempt 1 of 1) (total connection attempt 1 of 1) | Event: Session up\n"
     ]
    }
   ],
   "source": [
    "api = sj.Shioaji()\n",
    "accounts = api.login(**login_kws)\n",
    "sjtrader = sjtrade.SJTrader(api)"
   ]
  },
  {
   "cell_type": "markdown",
   "id": "f2123373-148c-4909-aa66-20f4150d06f0",
   "metadata": {},
   "source": [
    "##### Set Position Filepath and Preview Position"
   ]
  },
  {
   "cell_type": "code",
   "execution_count": 4,
   "id": "a45fc441-c6d1-495a-a213-987c5bf8a345",
   "metadata": {},
   "outputs": [
    {
     "data": {
      "text/plain": [
       "{'1524': -18,\n",
       " '2359': 10,\n",
       " '3141': -2,\n",
       " '3265': 6,\n",
       " '4133': 6,\n",
       " '5608': -6,\n",
       " '6104': -1,\n",
       " '6470': -4}"
      ]
     },
     "execution_count": 4,
     "metadata": {},
     "output_type": "execute_result"
    }
   ],
   "source": [
    "sjtrader.position_filepath = \"position.txt\"\n",
    "sjtrade.io.file.read_position(sjtrader.position_filepath)"
   ]
  },
  {
   "cell_type": "markdown",
   "id": "fb95a880-b1df-41b0-a481-92340794b39c",
   "metadata": {},
   "source": [
    "##### Set Custom Position FileReader"
   ]
  },
  {
   "cell_type": "code",
   "execution_count": null,
   "id": "02751152-8fd4-4280-8d8a-c03608eefd71",
   "metadata": {},
   "outputs": [],
   "source": [
    "from sjtrade.io.file import read_csv_position\n",
    "sjtrader.read_position_func = read_csv_position\n",
    "sjtrader.position_filepath = \"test.csv\"\n",
    "sjtrader.read_position_func(sjtrader.position_filepath)"
   ]
  },
  {
   "cell_type": "markdown",
   "id": "acb80a6b-7c89-4576-9dea-97597cb05ea1",
   "metadata": {
    "tags": []
   },
   "source": [
    "##### Set entry_pct stop_profit_pct stop_loss_pct"
   ]
  },
  {
   "cell_type": "code",
   "execution_count": 5,
   "id": "36622980-4a67-4208-995a-83422f0159e1",
   "metadata": {},
   "outputs": [],
   "source": [
    "sjtrader.entry_pct = 0.05\n",
    "sjtrader.stop_profit_pct = 0.095\n",
    "sjtrader.stop_loss_pct = 0.09"
   ]
  },
  {
   "cell_type": "code",
   "execution_count": 7,
   "id": "ec370364-93dd-4fc2-a749-aa8aa42b354b",
   "metadata": {},
   "outputs": [],
   "source": [
    "sjtrader.start()"
   ]
  },
  {
   "cell_type": "markdown",
   "id": "c7633e9d-e4bd-496b-a893-f9358cb4f4d8",
   "metadata": {},
   "source": [
    "##### What do sjtrader start actually execute"
   ]
  },
  {
   "cell_type": "code",
   "execution_count": 7,
   "id": "f7da034d-dfde-4250-a84c-71d1863b64ed",
   "metadata": {},
   "outputs": [
    {
     "data": {
      "text/plain": [
       "\u001b[0;31mSignature:\u001b[0m\n",
       "\u001b[0msjtrader\u001b[0m\u001b[0;34m.\u001b[0m\u001b[0mstart\u001b[0m\u001b[0;34m(\u001b[0m\u001b[0;34m\u001b[0m\n",
       "\u001b[0;34m\u001b[0m    \u001b[0mentry_time\u001b[0m\u001b[0;34m:\u001b[0m \u001b[0mtuple\u001b[0m \u001b[0;34m=\u001b[0m \u001b[0;34m(\u001b[0m\u001b[0;36m8\u001b[0m\u001b[0;34m,\u001b[0m \u001b[0;36m45\u001b[0m\u001b[0;34m)\u001b[0m\u001b[0;34m,\u001b[0m\u001b[0;34m\u001b[0m\n",
       "\u001b[0;34m\u001b[0m    \u001b[0mcancel_preorder_time\u001b[0m\u001b[0;34m:\u001b[0m \u001b[0mtuple\u001b[0m \u001b[0;34m=\u001b[0m \u001b[0;34m(\u001b[0m\u001b[0;36m8\u001b[0m\u001b[0;34m,\u001b[0m \u001b[0;36m54\u001b[0m\u001b[0;34m,\u001b[0m \u001b[0;36m59\u001b[0m\u001b[0;34m)\u001b[0m\u001b[0;34m,\u001b[0m\u001b[0;34m\u001b[0m\n",
       "\u001b[0;34m\u001b[0m    \u001b[0mintraday_handler_time\u001b[0m\u001b[0;34m:\u001b[0m \u001b[0mtuple\u001b[0m \u001b[0;34m=\u001b[0m \u001b[0;34m(\u001b[0m\u001b[0;36m8\u001b[0m\u001b[0;34m,\u001b[0m \u001b[0;36m59\u001b[0m\u001b[0;34m,\u001b[0m \u001b[0;36m55\u001b[0m\u001b[0;34m)\u001b[0m\u001b[0;34m,\u001b[0m\u001b[0;34m\u001b[0m\n",
       "\u001b[0;34m\u001b[0m    \u001b[0mcover_time\u001b[0m\u001b[0;34m:\u001b[0m \u001b[0mtuple\u001b[0m \u001b[0;34m=\u001b[0m \u001b[0;34m(\u001b[0m\u001b[0;36m13\u001b[0m\u001b[0;34m,\u001b[0m \u001b[0;36m25\u001b[0m\u001b[0;34m,\u001b[0m \u001b[0;36m59\u001b[0m\u001b[0;34m)\u001b[0m\u001b[0;34m,\u001b[0m\u001b[0;34m\u001b[0m\n",
       "\u001b[0;34m\u001b[0m\u001b[0;34m)\u001b[0m\u001b[0;34m\u001b[0m\u001b[0;34m\u001b[0m\u001b[0m\n",
       "\u001b[0;31mDocstring:\u001b[0m <no docstring>\n",
       "\u001b[0;31mSource:\u001b[0m   \n",
       "    \u001b[0;32mdef\u001b[0m \u001b[0mstart\u001b[0m\u001b[0;34m(\u001b[0m\u001b[0;34m\u001b[0m\n",
       "\u001b[0;34m\u001b[0m        \u001b[0mself\u001b[0m\u001b[0;34m,\u001b[0m\u001b[0;34m\u001b[0m\n",
       "\u001b[0;34m\u001b[0m        \u001b[0mentry_time\u001b[0m\u001b[0;34m:\u001b[0m \u001b[0mtuple\u001b[0m \u001b[0;34m=\u001b[0m \u001b[0;34m(\u001b[0m\u001b[0;36m8\u001b[0m\u001b[0;34m,\u001b[0m \u001b[0;36m45\u001b[0m\u001b[0;34m)\u001b[0m\u001b[0;34m,\u001b[0m\u001b[0;34m\u001b[0m\n",
       "\u001b[0;34m\u001b[0m        \u001b[0mcancel_preorder_time\u001b[0m\u001b[0;34m:\u001b[0m \u001b[0mtuple\u001b[0m \u001b[0;34m=\u001b[0m \u001b[0;34m(\u001b[0m\u001b[0;36m8\u001b[0m\u001b[0;34m,\u001b[0m \u001b[0;36m54\u001b[0m\u001b[0;34m,\u001b[0m \u001b[0;36m59\u001b[0m\u001b[0;34m)\u001b[0m\u001b[0;34m,\u001b[0m\u001b[0;34m\u001b[0m\n",
       "\u001b[0;34m\u001b[0m        \u001b[0mintraday_handler_time\u001b[0m\u001b[0;34m:\u001b[0m \u001b[0mtuple\u001b[0m \u001b[0;34m=\u001b[0m \u001b[0;34m(\u001b[0m\u001b[0;36m8\u001b[0m\u001b[0;34m,\u001b[0m \u001b[0;36m59\u001b[0m\u001b[0;34m,\u001b[0m \u001b[0;36m55\u001b[0m\u001b[0;34m)\u001b[0m\u001b[0;34m,\u001b[0m\u001b[0;34m\u001b[0m\n",
       "\u001b[0;34m\u001b[0m        \u001b[0mcover_time\u001b[0m\u001b[0;34m:\u001b[0m \u001b[0mtuple\u001b[0m \u001b[0;34m=\u001b[0m \u001b[0;34m(\u001b[0m\u001b[0;36m13\u001b[0m\u001b[0;34m,\u001b[0m \u001b[0;36m25\u001b[0m\u001b[0;34m,\u001b[0m \u001b[0;36m59\u001b[0m\u001b[0;34m)\u001b[0m\u001b[0;34m,\u001b[0m\u001b[0;34m\u001b[0m\n",
       "\u001b[0;34m\u001b[0m    \u001b[0;34m)\u001b[0m\u001b[0;34m:\u001b[0m\u001b[0;34m\u001b[0m\n",
       "\u001b[0;34m\u001b[0m        \u001b[0mpositions\u001b[0m \u001b[0;34m=\u001b[0m \u001b[0mread_position\u001b[0m\u001b[0;34m(\u001b[0m\u001b[0mself\u001b[0m\u001b[0;34m.\u001b[0m\u001b[0m_position_filepath\u001b[0m\u001b[0;34m)\u001b[0m\u001b[0;34m\u001b[0m\n",
       "\u001b[0;34m\u001b[0m        \u001b[0mentry_future\u001b[0m \u001b[0;34m=\u001b[0m \u001b[0mself\u001b[0m\u001b[0;34m.\u001b[0m\u001b[0mexecutor\u001b[0m\u001b[0;34m.\u001b[0m\u001b[0msubmit\u001b[0m\u001b[0;34m(\u001b[0m\u001b[0;34m\u001b[0m\n",
       "\u001b[0;34m\u001b[0m            \u001b[0mself\u001b[0m\u001b[0;34m.\u001b[0m\u001b[0mrun_at\u001b[0m\u001b[0;34m,\u001b[0m \u001b[0mentry_time\u001b[0m\u001b[0;34m,\u001b[0m \u001b[0mself\u001b[0m\u001b[0;34m.\u001b[0m\u001b[0mplace_entry_order\u001b[0m\u001b[0;34m,\u001b[0m \u001b[0mpositions\u001b[0m\u001b[0;34m,\u001b[0m \u001b[0mself\u001b[0m\u001b[0;34m.\u001b[0m\u001b[0mentry_pct\u001b[0m\u001b[0;34m\u001b[0m\n",
       "\u001b[0;34m\u001b[0m        \u001b[0;34m)\u001b[0m\u001b[0;34m\u001b[0m\n",
       "\u001b[0;34m\u001b[0m        \u001b[0mself\u001b[0m\u001b[0;34m.\u001b[0m\u001b[0mexecutor\u001b[0m\u001b[0;34m.\u001b[0m\u001b[0msubmit\u001b[0m\u001b[0;34m(\u001b[0m\u001b[0;34m\u001b[0m\n",
       "\u001b[0;34m\u001b[0m            \u001b[0mself\u001b[0m\u001b[0;34m.\u001b[0m\u001b[0mrun_at\u001b[0m\u001b[0;34m,\u001b[0m\u001b[0;34m\u001b[0m\n",
       "\u001b[0;34m\u001b[0m            \u001b[0mcancel_preorder_time\u001b[0m\u001b[0;34m,\u001b[0m\u001b[0;34m\u001b[0m\n",
       "\u001b[0;34m\u001b[0m            \u001b[0mself\u001b[0m\u001b[0;34m.\u001b[0m\u001b[0mset_on_tick_handler\u001b[0m\u001b[0;34m,\u001b[0m\u001b[0;34m\u001b[0m\n",
       "\u001b[0;34m\u001b[0m            \u001b[0mself\u001b[0m\u001b[0;34m.\u001b[0m\u001b[0mcancel_preorder_handler\u001b[0m\u001b[0;34m,\u001b[0m\u001b[0;34m\u001b[0m\n",
       "\u001b[0;34m\u001b[0m        \u001b[0;34m)\u001b[0m\u001b[0;34m\u001b[0m\n",
       "\u001b[0;34m\u001b[0m        \u001b[0mself\u001b[0m\u001b[0;34m.\u001b[0m\u001b[0mexecutor\u001b[0m\u001b[0;34m.\u001b[0m\u001b[0msubmit\u001b[0m\u001b[0;34m(\u001b[0m\u001b[0;34m\u001b[0m\n",
       "\u001b[0;34m\u001b[0m            \u001b[0mself\u001b[0m\u001b[0;34m.\u001b[0m\u001b[0mrun_at\u001b[0m\u001b[0;34m,\u001b[0m\u001b[0;34m\u001b[0m\n",
       "\u001b[0;34m\u001b[0m            \u001b[0mintraday_handler_time\u001b[0m\u001b[0;34m,\u001b[0m\u001b[0;34m\u001b[0m\n",
       "\u001b[0;34m\u001b[0m            \u001b[0mself\u001b[0m\u001b[0;34m.\u001b[0m\u001b[0mset_on_tick_handler\u001b[0m\u001b[0;34m,\u001b[0m\u001b[0;34m\u001b[0m\n",
       "\u001b[0;34m\u001b[0m            \u001b[0mself\u001b[0m\u001b[0;34m.\u001b[0m\u001b[0mintraday_handler\u001b[0m\u001b[0;34m,\u001b[0m\u001b[0;34m\u001b[0m\n",
       "\u001b[0;34m\u001b[0m        \u001b[0;34m)\u001b[0m\u001b[0;34m\u001b[0m\n",
       "\u001b[0;34m\u001b[0m        \u001b[0mself\u001b[0m\u001b[0;34m.\u001b[0m\u001b[0mexecutor\u001b[0m\u001b[0;34m.\u001b[0m\u001b[0msubmit\u001b[0m\u001b[0;34m(\u001b[0m\u001b[0mself\u001b[0m\u001b[0;34m.\u001b[0m\u001b[0mrun_at\u001b[0m\u001b[0;34m,\u001b[0m \u001b[0mcover_time\u001b[0m\u001b[0;34m,\u001b[0m \u001b[0mself\u001b[0m\u001b[0;34m.\u001b[0m\u001b[0mopen_position_cover\u001b[0m\u001b[0;34m)\u001b[0m\u001b[0;34m\u001b[0m\n",
       "\u001b[0;34m\u001b[0m        \u001b[0;32mreturn\u001b[0m \u001b[0mentry_future\u001b[0m\u001b[0;34m\u001b[0m\u001b[0;34m\u001b[0m\u001b[0m\n",
       "\u001b[0;31mFile:\u001b[0m      ~/.pyenv/versions/miniconda3-latest/lib/python3.7/site-packages/sjtrade/trader.py\n",
       "\u001b[0;31mType:\u001b[0m      method\n"
      ]
     },
     "metadata": {},
     "output_type": "display_data"
    },
    {
     "name": "stderr",
     "output_type": "stream",
     "text": [
      "2022-06-10 12:57:12.064 | INFO     | sjtrade.trader:deal_handler:623 - 3141 | short entry order deal with 2, price: 171.5\n",
      "2022-06-10 12:57:21.686 | INFO     | sjtrade.trader:deal_handler:623 - 5608 | short entry order deal with 6, price: 42.15\n"
     ]
    }
   ],
   "source": [
    "sjtrader.start??"
   ]
  },
  {
   "cell_type": "markdown",
   "id": "d6752389-e70a-4a88-ad86-13b794d8252a",
   "metadata": {},
   "source": [
    "### Simulation\n",
    "all order will be place as success and deal when price touch"
   ]
  },
  {
   "cell_type": "code",
   "execution_count": 3,
   "id": "22b2cfb3-201e-4d63-8b25-ab068b4ab12b",
   "metadata": {},
   "outputs": [
    {
     "name": "stdout",
     "output_type": "stream",
     "text": [
      "Response Code: 0 | Event Code: 0 | Info: host '203.66.91.161:80', IP 203.66.91.161:80 (host 1 of 1) (host connection attempt 1 of 1) (total connection attempt 1 of 1) | Event: Session up\n"
     ]
    }
   ],
   "source": [
    "api = sj.Shioaji()\n",
    "accounts = api.login(**login_kws)\n",
    "sjtrader = sjtrade.SJTrader(api, simulation=True)"
   ]
  },
  {
   "cell_type": "code",
   "execution_count": 4,
   "id": "e06f222c-091f-4373-ba1a-8687462b81d6",
   "metadata": {},
   "outputs": [
    {
     "data": {
      "text/plain": [
       "{'1524': -18,\n",
       " '2359': 10,\n",
       " '3141': -2,\n",
       " '3265': 6,\n",
       " '4133': 6,\n",
       " '5608': -6,\n",
       " '6104': -1,\n",
       " '6470': -4}"
      ]
     },
     "execution_count": 4,
     "metadata": {},
     "output_type": "execute_result"
    }
   ],
   "source": [
    "sjtrader.position_filepath = \"position.txt\"\n",
    "sjtrade.io.file.read_position(sjtrader.position_filepath)"
   ]
  },
  {
   "cell_type": "code",
   "execution_count": 5,
   "id": "f698f3e0-f4bb-4a1d-9526-c4c9a8680784",
   "metadata": {},
   "outputs": [],
   "source": [
    "sjtrader.entry_pct = 0.05\n",
    "sjtrader.stop_profit_pct = 0.095\n",
    "sjtrader.stop_loss_pct = 0.09"
   ]
  },
  {
   "cell_type": "code",
   "execution_count": 6,
   "id": "720c1808-2b8c-407c-90ca-36d2e9e43dca",
   "metadata": {},
   "outputs": [
    {
     "name": "stderr",
     "output_type": "stream",
     "text": [
      "2022-06-10 12:56:29.227 | INFO     | sjtrade.trader:sj_event_handel:314 - Response Code: 200 | Event Code: 16 | Info: TIC/v1/STK/*/TSE/1524 | Event: Subscribe or Unsubscribe ok\n",
      "2022-06-10 12:56:29.228 | INFO     | sjtrade.trader:place_entry_order:367 - 1524 | action=<Action.Sell: 'Sell'> price=1.0 quantity=18 custom_field='dt1' price_type=<StockPriceType.LMT: 'LMT'> order_type=<FuturesOrderType.ROD: 'ROD'> first_sell=<StockFirstSell.Yes: 'true'>\n",
      "2022-06-10 12:56:29.234 | INFO     | sjtrade.trader:sj_event_handel:314 - Response Code: 200 | Event Code: 16 | Info: TIC/v1/STK/*/TSE/2359 | Event: Subscribe or Unsubscribe ok\n",
      "2022-06-10 12:56:29.235 | INFO     | sjtrade.trader:place_entry_order:367 - 2359 | action=<Action.Buy: 'Buy'> price=1.42 quantity=10 custom_field='dt1' price_type=<StockPriceType.LMT: 'LMT'> order_type=<FuturesOrderType.ROD: 'ROD'>\n"
     ]
    },
    {
     "data": {
      "text/plain": [
       "<Future at 0x7fcf606d7690 state=running>"
      ]
     },
     "execution_count": 6,
     "metadata": {},
     "output_type": "execute_result"
    },
    {
     "name": "stderr",
     "output_type": "stream",
     "text": [
      "2022-06-10 12:56:29.239 | INFO     | sjtrade.trader:sj_event_handel:314 - Response Code: 200 | Event Code: 16 | Info: TIC/v1/STK/*/OTC/3141 | Event: Subscribe or Unsubscribe ok\n",
      "2022-06-10 12:56:29.239 | INFO     | sjtrade.trader:place_entry_order:367 - 3141 | action=<Action.Sell: 'Sell'> price=8.62 quantity=2 custom_field='dt1' price_type=<StockPriceType.LMT: 'LMT'> order_type=<FuturesOrderType.ROD: 'ROD'> first_sell=<StockFirstSell.Yes: 'true'>\n",
      "2022-06-10 12:56:29.244 | INFO     | sjtrade.trader:sj_event_handel:314 - Response Code: 200 | Event Code: 16 | Info: TIC/v1/STK/*/OTC/3265 | Event: Subscribe or Unsubscribe ok\n",
      "2022-06-10 12:56:29.244 | INFO     | sjtrade.trader:place_entry_order:367 - 3265 | action=<Action.Buy: 'Buy'> price=2.77 quantity=6 custom_field='dt1' price_type=<StockPriceType.LMT: 'LMT'> order_type=<FuturesOrderType.ROD: 'ROD'>\n",
      "2022-06-10 12:56:29.248 | INFO     | sjtrade.trader:place_entry_order:367 - 4133 | action=<Action.Buy: 'Buy'> price=2.36 quantity=6 custom_field='dt1' price_type=<StockPriceType.LMT: 'LMT'> order_type=<FuturesOrderType.ROD: 'ROD'>\n",
      "2022-06-10 12:56:29.252 | INFO     | sjtrade.trader:place_entry_order:367 - 5608 | action=<Action.Sell: 'Sell'> price=2.15 quantity=6 custom_field='dt1' price_type=<StockPriceType.LMT: 'LMT'> order_type=<FuturesOrderType.ROD: 'ROD'> first_sell=<StockFirstSell.Yes: 'true'>\n",
      "2022-06-10 12:56:29.255 | INFO     | sjtrade.trader:place_entry_order:367 - 6104 | action=<Action.Sell: 'Sell'> price=10.2 quantity=1 custom_field='dt1' price_type=<StockPriceType.LMT: 'LMT'> order_type=<FuturesOrderType.ROD: 'ROD'> first_sell=<StockFirstSell.Yes: 'true'>\n",
      "2022-06-10 12:56:29.257 | INFO     | sjtrade.trader:place_entry_order:367 - 6470 | action=<Action.Sell: 'Sell'> price=3.54 quantity=4 custom_field='dt1' price_type=<StockPriceType.LMT: 'LMT'> order_type=<FuturesOrderType.ROD: 'ROD'> first_sell=<StockFirstSell.Yes: 'true'>\n",
      "2022-06-10 12:56:29.260 | INFO     | sjtrade.trader:sj_event_handel:314 - Response Code: 200 | Event Code: 16 | Info: TIC/v1/STK/*/TSE/4133 | Event: Subscribe or Unsubscribe ok\n",
      "2022-06-10 12:56:29.261 | INFO     | sjtrade.trader:sj_event_handel:314 - Response Code: 200 | Event Code: 16 | Info: TIC/v1/STK/*/TSE/5608 | Event: Subscribe or Unsubscribe ok\n",
      "2022-06-10 12:56:29.263 | INFO     | sjtrade.trader:sj_event_handel:314 - Response Code: 200 | Event Code: 16 | Info: TIC/v1/STK/*/OTC/6104 | Event: Subscribe or Unsubscribe ok\n",
      "2022-06-10 12:56:29.264 | INFO     | sjtrade.trader:sj_event_handel:314 - Response Code: 200 | Event Code: 16 | Info: TIC/v1/STK/*/OTC/6470 | Event: Subscribe or Unsubscribe ok\n",
      "2022-06-10 12:56:29.728 | INFO     | sjtrade.trader:order_handler:568 - 1524 | place short entry order with 18\n",
      "2022-06-10 12:56:29.735 | INFO     | sjtrade.trader:order_handler:584 - 2359 | place long entry order with 10\n",
      "2022-06-10 12:56:29.740 | INFO     | sjtrade.trader:order_handler:568 - 3141 | place short entry order with 2\n",
      "2022-06-10 12:56:29.744 | INFO     | sjtrade.trader:order_handler:584 - 3265 | place long entry order with 6\n",
      "2022-06-10 12:56:29.749 | INFO     | sjtrade.trader:order_handler:584 - 4133 | place long entry order with 6\n",
      "2022-06-10 12:56:29.753 | INFO     | sjtrade.trader:order_handler:568 - 5608 | place short entry order with 6\n",
      "2022-06-10 12:56:29.756 | INFO     | sjtrade.trader:order_handler:568 - 6104 | place short entry order with 1\n",
      "2022-06-10 12:56:29.757 | INFO     | sjtrade.trader:order_handler:568 - 6470 | place short entry order with 4\n",
      "2022-06-10 12:56:31.925 | INFO     | sjtrade.trader:deal_handler:623 - 6104 | short entry order deal with 1, price: 199\n",
      "2022-06-10 12:56:38.763 | INFO     | sjtrade.trader:deal_handler:623 - 6470 | short entry order deal with 4, price: 71.7\n"
     ]
    }
   ],
   "source": [
    "sjtrader.start()"
   ]
  },
  {
   "cell_type": "markdown",
   "id": "0f25842d-30d3-4868-b346-26bb1f81c10b",
   "metadata": {},
   "source": [
    "##### Check Position Condition"
   ]
  },
  {
   "cell_type": "code",
   "execution_count": 14,
   "id": "03e6c0ae-2f37-4777-bc67-8d4e3728b605",
   "metadata": {},
   "outputs": [
    {
     "data": {
      "text/plain": [
       "[('1524',\n",
       "  PositionCond(quantity=-18, stop_loss_price=21.9, stop_profit_price=18.2)),\n",
       " ('2359',\n",
       "  PositionCond(quantity=10, stop_loss_price=25.85, stop_profit_price=31.05)),\n",
       " ('3141',\n",
       "  PositionCond(quantity=-2, stop_loss_price=188.0, stop_profit_price=156.5)),\n",
       " ('3265',\n",
       "  PositionCond(quantity=6, stop_loss_price=50.5, stop_profit_price=60.6)),\n",
       " ('4133',\n",
       "  PositionCond(quantity=6, stop_loss_price=42.9, stop_profit_price=51.5)),\n",
       " ('5608',\n",
       "  PositionCond(quantity=-6, stop_loss_price=46.95, stop_profit_price=39.05)),\n",
       " ('6104',\n",
       "  PositionCond(quantity=-1, stop_loss_price=222.0, stop_profit_price=185.0)),\n",
       " ('6470',\n",
       "  PositionCond(quantity=-4, stop_loss_price=77.2, stop_profit_price=64.2))]"
      ]
     },
     "execution_count": 14,
     "metadata": {},
     "output_type": "execute_result"
    }
   ],
   "source": [
    "[(code, position.cond) for code, position in sjtrader.positions.items()]"
   ]
  },
  {
   "cell_type": "markdown",
   "id": "e8469b82-8c4a-4065-8dfc-8a3f054be87c",
   "metadata": {},
   "source": [
    "##### Check Position Status"
   ]
  },
  {
   "cell_type": "code",
   "execution_count": 13,
   "id": "1d936ba0-253c-49eb-9cb2-722a68606ad2",
   "metadata": {},
   "outputs": [
    {
     "data": {
      "text/plain": [
       "[('1524',\n",
       "  PositionStatus(cancel_preorder=False, cancel_quantity=0, entry_order_quantity=-18, entry_quantity=0, open_quantity=0, cover_order_quantity=0, cover_quantity=0)),\n",
       " ('2359',\n",
       "  PositionStatus(cancel_preorder=False, cancel_quantity=0, entry_order_quantity=10, entry_quantity=0, open_quantity=0, cover_order_quantity=0, cover_quantity=0)),\n",
       " ('3141',\n",
       "  PositionStatus(cancel_preorder=False, cancel_quantity=0, entry_order_quantity=-2, entry_quantity=-2, open_quantity=-2, cover_order_quantity=0, cover_quantity=0)),\n",
       " ('3265',\n",
       "  PositionStatus(cancel_preorder=False, cancel_quantity=0, entry_order_quantity=6, entry_quantity=0, open_quantity=0, cover_order_quantity=0, cover_quantity=0)),\n",
       " ('4133',\n",
       "  PositionStatus(cancel_preorder=False, cancel_quantity=0, entry_order_quantity=6, entry_quantity=0, open_quantity=0, cover_order_quantity=0, cover_quantity=0)),\n",
       " ('5608',\n",
       "  PositionStatus(cancel_preorder=False, cancel_quantity=0, entry_order_quantity=-6, entry_quantity=-6, open_quantity=-6, cover_order_quantity=0, cover_quantity=0)),\n",
       " ('6104',\n",
       "  PositionStatus(cancel_preorder=False, cancel_quantity=0, entry_order_quantity=-1, entry_quantity=-1, open_quantity=-1, cover_order_quantity=0, cover_quantity=0)),\n",
       " ('6470',\n",
       "  PositionStatus(cancel_preorder=False, cancel_quantity=0, entry_order_quantity=-4, entry_quantity=-4, open_quantity=-4, cover_order_quantity=0, cover_quantity=0))]"
      ]
     },
     "execution_count": 13,
     "metadata": {},
     "output_type": "execute_result"
    }
   ],
   "source": [
    "[(code, position.status) for code, position in sjtrader.positions.items()]"
   ]
  },
  {
   "cell_type": "markdown",
   "id": "05e2da91-58fe-42de-83ef-4f9992512feb",
   "metadata": {},
   "source": [
    "##### Show Position"
   ]
  },
  {
   "cell_type": "code",
   "execution_count": 15,
   "id": "cee87244-54c3-4d42-9c6c-2e31f40e6879",
   "metadata": {},
   "outputs": [
    {
     "data": {
      "text/plain": [
       "Position(contract=Stock(exchange=<Exchange.OTC: 'OTC'>, code='3141', symbol='OTC3141', name='晶宏', category='24', unit=1000, limit_up=189.5, limit_down=155.5, reference=172.5, update_date='2022/06/10', margin_trading_balance=121, short_selling_balance=88, day_trade=<DayTrade.Yes: 'Yes'>), cond=PositionCond(quantity=-2, stop_loss_price=188.0, stop_profit_price=156.5), status=PositionStatus(cancel_preorder=False, cancel_quantity=0, entry_order_quantity=-2, entry_quantity=-2, open_quantity=-2, cover_order_quantity=0, cover_quantity=0), entry_trades=[Trade(contract=Stock(exchange=<Exchange.OTC: 'OTC'>, code='3141', symbol='OTC3141', name='晶宏', category='24', unit=1000, limit_up=189.5, limit_down=155.5, reference=172.5, update_date='2022/06/10', margin_trading_balance=121, short_selling_balance=88, day_trade=<DayTrade.Yes: 'Yes'>), order=Order(action=<Action.Sell: 'Sell'>, price=8.62, quantity=2, id='451112dd', seqno='000003', ordno='okjAB', custom_field='dt1', price_type=<StockPriceType.LMT: 'LMT'>, order_type=<FuturesOrderType.ROD: 'ROD'>, first_sell=<StockFirstSell.Yes: 'true'>), status=OrderStatus(status=<Status.Filled: 'Filled'>, deal_quantity=2))], cover_trades=[], lock=<unlocked _thread.lock object at 0x7fcf7cd78120>)"
      ]
     },
     "execution_count": 15,
     "metadata": {},
     "output_type": "execute_result"
    }
   ],
   "source": [
    "position = sjtrader.positions[\"3141\"]\n",
    "position"
   ]
  },
  {
   "cell_type": "markdown",
   "id": "0a1e6bfa-139f-4d1c-a6af-f52ab2f20233",
   "metadata": {},
   "source": [
    "##### Bring forward cover single position"
   ]
  },
  {
   "cell_type": "code",
   "execution_count": 16,
   "id": "cf655342-1f8f-4d93-a97f-da8eeed1188d",
   "metadata": {},
   "outputs": [
    {
     "name": "stderr",
     "output_type": "stream",
     "text": [
      "2022-06-10 13:00:49.739 | INFO     | sjtrade.trader:place_cover_order:513 - 3141 | action=<Action.Buy: 'Buy'> price=0 quantity=2 custom_field='dt1' price_type=<TFTStockPriceType.MKT: 'MKT'> order_type=<TFTOrderType.ROD: 'ROD'>\n",
      "2022-06-10 13:00:50.239 | INFO     | sjtrade.trader:order_handler:579 - 3141 | place short cover order with 2\n",
      "2022-06-10 13:00:50.341 | INFO     | sjtrade.trader:deal_handler:635 - 3141 | short cover order deal with 2, price: 171.5\n"
     ]
    }
   ],
   "source": [
    "sjtrader.place_cover_order(position)"
   ]
  },
  {
   "cell_type": "code",
   "execution_count": 18,
   "id": "438f6adb-e3a8-43ed-a9a5-2d28d91814df",
   "metadata": {},
   "outputs": [
    {
     "data": {
      "text/plain": [
       "PositionStatus(cancel_preorder=False, cancel_quantity=0, entry_order_quantity=-2, entry_quantity=-2, open_quantity=0, cover_order_quantity=2, cover_quantity=2)"
      ]
     },
     "execution_count": 18,
     "metadata": {},
     "output_type": "execute_result"
    }
   ],
   "source": [
    "position.status"
   ]
  },
  {
   "cell_type": "markdown",
   "id": "4cce5475-547a-42cb-a116-26bcd83a790d",
   "metadata": {},
   "source": [
    "##### Bring forward cover all open position"
   ]
  },
  {
   "cell_type": "code",
   "execution_count": 19,
   "id": "b17197e4-c95d-4b40-a1c0-c0e1c0e3f821",
   "metadata": {},
   "outputs": [
    {
     "name": "stderr",
     "output_type": "stream",
     "text": [
      "2022-06-10 13:01:37.801 | INFO     | sjtrade.trader:open_position_cover:523 - start place cover order.\n",
      "2022-06-10 13:01:38.303 | INFO     | sjtrade.trader:order_handler:608 - 2359 | canel long entry order with 10\n",
      "2022-06-10 13:01:38.906 | INFO     | sjtrade.trader:order_handler:608 - 3265 | canel long entry order with 6\n",
      "2022-06-10 13:01:39.509 | INFO     | sjtrade.trader:order_handler:608 - 4133 | canel long entry order with 6\n",
      "2022-06-10 13:01:39.615 | INFO     | sjtrade.trader:place_cover_order:513 - 1524 | action=<Action.Buy: 'Buy'> price=22.1 quantity=18 custom_field='dt1' price_type=<TFTStockPriceType.LMT: 'LMT'> order_type=<TFTOrderType.ROD: 'ROD'>\n",
      "2022-06-10 13:01:39.618 | INFO     | sjtrade.trader:place_cover_order:513 - 5608 | action=<Action.Buy: 'Buy'> price=47.4 quantity=6 custom_field='dt1' price_type=<TFTStockPriceType.LMT: 'LMT'> order_type=<TFTOrderType.ROD: 'ROD'>\n",
      "2022-06-10 13:01:39.622 | INFO     | sjtrade.trader:place_cover_order:513 - 6104 | action=<Action.Buy: 'Buy'> price=224.0 quantity=1 custom_field='dt1' price_type=<TFTStockPriceType.LMT: 'LMT'> order_type=<TFTOrderType.ROD: 'ROD'>\n",
      "2022-06-10 13:01:39.628 | INFO     | sjtrade.trader:place_cover_order:513 - 6470 | action=<Action.Buy: 'Buy'> price=77.9 quantity=4 custom_field='dt1' price_type=<TFTStockPriceType.LMT: 'LMT'> order_type=<TFTOrderType.ROD: 'ROD'>\n",
      "2022-06-10 13:01:40.114 | INFO     | sjtrade.trader:order_handler:579 - 1524 | place short cover order with 18\n",
      "2022-06-10 13:01:40.118 | INFO     | sjtrade.trader:order_handler:579 - 5608 | place short cover order with 6\n",
      "2022-06-10 13:01:40.122 | INFO     | sjtrade.trader:order_handler:579 - 6104 | place short cover order with 1\n",
      "2022-06-10 13:01:40.129 | INFO     | sjtrade.trader:order_handler:579 - 6470 | place short cover order with 4\n",
      "2022-06-10 13:01:44.128 | INFO     | sjtrade.trader:deal_handler:635 - 6470 | short cover order deal with 4, price: 71.6\n",
      "2022-06-10 13:01:49.418 | INFO     | sjtrade.trader:deal_handler:635 - 6104 | short cover order deal with 1, price: 199\n",
      "2022-06-10 13:01:56.292 | INFO     | sjtrade.trader:deal_handler:635 - 5608 | short cover order deal with 6, price: 42.1\n",
      "2022-06-10 13:05:06.727 | INFO     | sjtrade.trader:deal_handler:635 - 1524 | short cover order deal with 18, price: 20.9\n",
      "2022-06-10 13:25:58.986 | INFO     | sjtrade.trader:open_position_cover:523 - start place cover order.\n"
     ]
    }
   ],
   "source": [
    "sjtrader.open_position_cover()"
   ]
  },
  {
   "cell_type": "markdown",
   "id": "993f2db8-b770-4877-be43-93d354571ad2",
   "metadata": {},
   "source": [
    "### Notifications "
   ]
  },
  {
   "cell_type": "code",
   "execution_count": 12,
   "id": "abea6098-55b9-4b40-96d4-3554c46dd645",
   "metadata": {},
   "outputs": [
    {
     "name": "stdout",
     "output_type": "stream",
     "text": [
      "Collecting notifiers\n",
      "  Downloading notifiers-1.3.3-py3-none-any.whl (43 kB)\n",
      "\u001b[2K     \u001b[90m━━━━━━━━━━━━━━━━━━━━━━━━━━━━━━━━━━━━━━━━\u001b[0m \u001b[32m44.0/44.0 KB\u001b[0m \u001b[31m1.3 MB/s\u001b[0m eta \u001b[36m0:00:00\u001b[0m\n",
      "\u001b[?25hRequirement already satisfied: requests<3.0.0,>=2.27.1 in /home/yvictor/.pyenv/versions/miniconda3-latest/lib/python3.7/site-packages (from notifiers) (2.27.1)\n",
      "Collecting jsonschema<5.0.0,>=4.4.0\n",
      "  Downloading jsonschema-4.6.0-py3-none-any.whl (80 kB)\n",
      "\u001b[2K     \u001b[90m━━━━━━━━━━━━━━━━━━━━━━━━━━━━━━━━━━━━━━━━\u001b[0m \u001b[32m80.4/80.4 KB\u001b[0m \u001b[31m1.7 MB/s\u001b[0m eta \u001b[36m0:00:00\u001b[0ma \u001b[36m0:00:01\u001b[0m\n",
      "\u001b[?25hRequirement already satisfied: click<9.0.0,>=8.0.3 in /home/yvictor/.pyenv/versions/miniconda3-latest/lib/python3.7/site-packages (from notifiers) (8.0.4)\n",
      "Requirement already satisfied: importlib-metadata in /home/yvictor/.pyenv/versions/miniconda3-latest/lib/python3.7/site-packages (from click<9.0.0,>=8.0.3->notifiers) (4.2.0)\n",
      "Requirement already satisfied: attrs>=17.4.0 in /home/yvictor/.pyenv/versions/miniconda3-latest/lib/python3.7/site-packages (from jsonschema<5.0.0,>=4.4.0->notifiers) (21.4.0)\n",
      "Requirement already satisfied: pyrsistent!=0.17.0,!=0.17.1,!=0.17.2,>=0.14.0 in /home/yvictor/.pyenv/versions/miniconda3-latest/lib/python3.7/site-packages (from jsonschema<5.0.0,>=4.4.0->notifiers) (0.18.0)\n",
      "Collecting importlib-resources>=1.4.0\n",
      "  Downloading importlib_resources-5.7.1-py3-none-any.whl (28 kB)\n",
      "Requirement already satisfied: typing-extensions in /home/yvictor/.pyenv/versions/miniconda3-latest/lib/python3.7/site-packages (from jsonschema<5.0.0,>=4.4.0->notifiers) (4.0.1)\n",
      "Requirement already satisfied: urllib3<1.27,>=1.21.1 in /home/yvictor/.pyenv/versions/miniconda3-latest/lib/python3.7/site-packages (from requests<3.0.0,>=2.27.1->notifiers) (1.26.9)\n",
      "Requirement already satisfied: idna<4,>=2.5 in /home/yvictor/.pyenv/versions/miniconda3-latest/lib/python3.7/site-packages (from requests<3.0.0,>=2.27.1->notifiers) (3.3)\n",
      "Requirement already satisfied: charset-normalizer~=2.0.0 in /home/yvictor/.pyenv/versions/miniconda3-latest/lib/python3.7/site-packages (from requests<3.0.0,>=2.27.1->notifiers) (2.0.12)\n",
      "Requirement already satisfied: certifi>=2017.4.17 in /home/yvictor/.pyenv/versions/miniconda3-latest/lib/python3.7/site-packages (from requests<3.0.0,>=2.27.1->notifiers) (2022.5.18.1)\n",
      "Requirement already satisfied: zipp>=3.1.0 in /home/yvictor/.pyenv/versions/miniconda3-latest/lib/python3.7/site-packages (from importlib-resources>=1.4.0->jsonschema<5.0.0,>=4.4.0->notifiers) (3.8.0)\n",
      "Installing collected packages: importlib-resources, jsonschema, notifiers\n",
      "  Attempting uninstall: jsonschema\n",
      "    Found existing installation: jsonschema 3.2.0\n",
      "    Uninstalling jsonschema-3.2.0:\n",
      "      Successfully uninstalled jsonschema-3.2.0\n",
      "Successfully installed importlib-resources-5.7.1 jsonschema-4.6.0 notifiers-1.3.3\n",
      "\u001b[33mWARNING: You are using pip version 22.0.3; however, version 22.1.2 is available.\n",
      "You should consider upgrading via the '/home/yvictor/.pyenv/versions/miniconda3-latest/bin/python -m pip install --upgrade pip' command.\u001b[0m\u001b[33m\n",
      "\u001b[0mNote: you may need to restart the kernel to use updated packages.\n"
     ]
    }
   ],
   "source": [
    "%pip install notifiers"
   ]
  },
  {
   "cell_type": "markdown",
   "id": "cba0ce2c-10a7-4e37-82d4-714afdde5b41",
   "metadata": {},
   "source": [
    "##### Check notifiers"
   ]
  },
  {
   "cell_type": "code",
   "execution_count": 22,
   "id": "fdeca817-8b47-4501-9c6a-1c0de4df5564",
   "metadata": {},
   "outputs": [],
   "source": [
    "from notifiers import get_notifier"
   ]
  },
  {
   "cell_type": "code",
   "execution_count": 23,
   "id": "b00876a6-b426-4e84-bd95-a41b99d51008",
   "metadata": {},
   "outputs": [],
   "source": [
    "notifier = get_notifier(\"telegram\")"
   ]
  },
  {
   "cell_type": "code",
   "execution_count": 21,
   "id": "d4bf3e25-ba56-475c-b83a-1413c1b8c7b6",
   "metadata": {},
   "outputs": [],
   "source": [
    "TELECHATID = \"\"\n",
    "TELEBOT_TOKEN = \"\"\n",
    "PARAMS = {\"chat_id\": TELECHATID, \"token\": TELEBOT_TOKEN}"
   ]
  },
  {
   "cell_type": "code",
   "execution_count": 24,
   "id": "11efb1e9-95bd-4161-b2d1-0eea62c4c669",
   "metadata": {},
   "outputs": [],
   "source": [
    "p = Path(\"telegram.json\")\n",
    "PARAMS = json.loads(p.read_text())"
   ]
  },
  {
   "cell_type": "code",
   "execution_count": 25,
   "id": "fba6dae9-1859-4aa8-a215-61ff17e56905",
   "metadata": {},
   "outputs": [
    {
     "data": {
      "text/plain": [
       "<Response,provider=Telegram,status=Success, errors=None>"
      ]
     },
     "execution_count": 25,
     "metadata": {},
     "output_type": "execute_result"
    }
   ],
   "source": [
    "notifier.notify(message=\"test\", **PARAMS)"
   ]
  },
  {
   "cell_type": "code",
   "execution_count": 26,
   "id": "764441dd-5f72-4d4d-8a5f-2657ad3e8208",
   "metadata": {},
   "outputs": [
    {
     "data": {
      "text/plain": [
       "{'chat_id': '-717386035',\n",
       " 'token': '539175188:AAHbZ2GDCLs680Z8K2mtGNa5_HCY0Q07wPM'}"
      ]
     },
     "execution_count": 26,
     "metadata": {},
     "output_type": "execute_result"
    }
   ],
   "source": [
    "PARAMS"
   ]
  },
  {
   "cell_type": "markdown",
   "id": "bcbda33d-351c-4dec-a933-fdd5482562a0",
   "metadata": {},
   "source": [
    "##### Check logger"
   ]
  },
  {
   "cell_type": "code",
   "execution_count": 25,
   "id": "48619bae-5ce0-4c74-a20a-d0534ce870b7",
   "metadata": {},
   "outputs": [],
   "source": [
    "from loguru import logger\n",
    "from notifiers.logging import NotificationHandler"
   ]
  },
  {
   "cell_type": "code",
   "execution_count": 26,
   "id": "d99784f7-01cb-4a87-a8df-1f50c1d9e6d3",
   "metadata": {},
   "outputs": [
    {
     "data": {
      "text/plain": [
       "1"
      ]
     },
     "execution_count": 26,
     "metadata": {},
     "output_type": "execute_result"
    }
   ],
   "source": [
    "handler = NotificationHandler(\"telegram\", defaults=PARAMS)\n",
    "logger.add(handler, level=\"INFO\")"
   ]
  },
  {
   "cell_type": "code",
   "execution_count": 27,
   "id": "43f76f40-b601-48a5-b8b7-ec4d4ec4e677",
   "metadata": {},
   "outputs": [
    {
     "name": "stderr",
     "output_type": "stream",
     "text": [
      "2022-06-09 19:47:19.124 | INFO     | __main__:<module>:1 - logger test\n"
     ]
    }
   ],
   "source": [
    "logger.info(\"logger test\")"
   ]
  }
 ],
 "metadata": {
  "kernelspec": {
   "display_name": "Python 3 (ipykernel)",
   "language": "python",
   "name": "python3"
  },
  "language_info": {
   "codemirror_mode": {
    "name": "ipython",
    "version": 3
   },
   "file_extension": ".py",
   "mimetype": "text/x-python",
   "name": "python",
   "nbconvert_exporter": "python",
   "pygments_lexer": "ipython3",
   "version": "3.7.11"
  }
 },
 "nbformat": 4,
 "nbformat_minor": 5
}
