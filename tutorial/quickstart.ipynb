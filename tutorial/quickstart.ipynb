{
 "cells": [
  {
   "cell_type": "markdown",
   "id": "64c680c8-827e-4e39-8923-52a9d96948b2",
   "metadata": {},
   "source": [
    "### Installation"
   ]
  },
  {
   "cell_type": "code",
   "execution_count": 30,
   "id": "6bc344bc-5fbb-42bb-926a-f3348f041599",
   "metadata": {},
   "outputs": [
    {
     "name": "stdout",
     "output_type": "stream",
     "text": [
      "Collecting sjtrade\n",
      "  Downloading sjtrade-0.1.1-py3-none-any.whl (5.7 kB)\n",
      "Collecting shioaji>=0.3.4.dev7\n",
      "  Downloading shioaji-0.3.5.dev0-cp37-cp37m-manylinux_2_24_x86_64.whl (5.6 MB)\n",
      "\u001b[2K     \u001b[90m━━━━━━━━━━━━━━━━━━━━━━━━━━━━━━━━━━━━━━━━\u001b[0m \u001b[32m5.6/5.6 MB\u001b[0m \u001b[31m55.7 kB/s\u001b[0m eta \u001b[36m0:00:00\u001b[0m00:01\u001b[0m00:03\u001b[0m\n",
      "\u001b[?25hRequirement already satisfied: loguru in /home/yvictor/.pyenv/versions/miniconda3-latest/lib/python3.7/site-packages (from sjtrade) (0.6.0)\n",
      "Requirement already satisfied: requests in /home/yvictor/.pyenv/versions/miniconda3-latest/lib/python3.7/site-packages (from shioaji>=0.3.4.dev7->sjtrade) (2.27.1)\n",
      "Requirement already satisfied: importlib-metadata in /home/yvictor/.pyenv/versions/miniconda3-latest/lib/python3.7/site-packages (from shioaji>=0.3.4.dev7->sjtrade) (4.2.0)\n",
      "Collecting pysolace==0.9.20\n",
      "  Downloading pysolace-0.9.20-cp37-cp37m-manylinux_2_24_x86_64.whl (14.6 MB)\n",
      "\u001b[2K     \u001b[90m━━━━━━━━━━━━━━━━━━━━━━━━━━━━━━━━━━━━━━━━\u001b[0m \u001b[32m14.6/14.6 MB\u001b[0m \u001b[31m57.7 kB/s\u001b[0m eta \u001b[36m0:00:00\u001b[0m00:01\u001b[0m00:07\u001b[0m\n",
      "\u001b[?25hRequirement already satisfied: pydantic in /home/yvictor/.pyenv/versions/miniconda3-latest/lib/python3.7/site-packages (from shioaji>=0.3.4.dev7->sjtrade) (1.9.1)\n",
      "Collecting sentry-sdk==1.5.12\n",
      "  Downloading sentry_sdk-1.5.12-py2.py3-none-any.whl (145 kB)\n",
      "\u001b[2K     \u001b[90m━━━━━━━━━━━━━━━━━━━━━━━━━━━━━━━━━━━━━━━━\u001b[0m \u001b[32m145.3/145.3 KB\u001b[0m \u001b[31m71.5 kB/s\u001b[0m eta \u001b[36m0:00:00\u001b[0ma \u001b[36m0:00:01\u001b[0m\n",
      "\u001b[?25hRequirement already satisfied: filelock in /home/yvictor/.pyenv/versions/miniconda3-latest/lib/python3.7/site-packages (from shioaji>=0.3.4.dev7->sjtrade) (3.4.1)\n",
      "Requirement already satisfied: xxhash in /home/yvictor/.pyenv/versions/miniconda3-latest/lib/python3.7/site-packages (from shioaji>=0.3.4.dev7->sjtrade) (2.0.2)\n",
      "Requirement already satisfied: typing-extensions==4.0.1 in /home/yvictor/.pyenv/versions/miniconda3-latest/lib/python3.7/site-packages (from shioaji>=0.3.4.dev7->sjtrade) (4.0.1)\n",
      "Requirement already satisfied: msgpack in /home/yvictor/.pyenv/versions/miniconda3-latest/lib/python3.7/site-packages (from pysolace==0.9.20->shioaji>=0.3.4.dev7->sjtrade) (1.0.3)\n",
      "Requirement already satisfied: orjson in /home/yvictor/.pyenv/versions/miniconda3-latest/lib/python3.7/site-packages (from pysolace==0.9.20->shioaji>=0.3.4.dev7->sjtrade) (3.3.1)\n",
      "Requirement already satisfied: urllib3>=1.10.0 in /home/yvictor/.pyenv/versions/miniconda3-latest/lib/python3.7/site-packages (from sentry-sdk==1.5.12->shioaji>=0.3.4.dev7->sjtrade) (1.26.9)\n",
      "Requirement already satisfied: certifi in /home/yvictor/.pyenv/versions/miniconda3-latest/lib/python3.7/site-packages (from sentry-sdk==1.5.12->shioaji>=0.3.4.dev7->sjtrade) (2022.5.18.1)\n",
      "Requirement already satisfied: zipp>=0.5 in /home/yvictor/.pyenv/versions/miniconda3-latest/lib/python3.7/site-packages (from importlib-metadata->shioaji>=0.3.4.dev7->sjtrade) (3.8.0)\n",
      "Requirement already satisfied: charset-normalizer~=2.0.0 in /home/yvictor/.pyenv/versions/miniconda3-latest/lib/python3.7/site-packages (from requests->shioaji>=0.3.4.dev7->sjtrade) (2.0.12)\n",
      "Requirement already satisfied: idna<4,>=2.5 in /home/yvictor/.pyenv/versions/miniconda3-latest/lib/python3.7/site-packages (from requests->shioaji>=0.3.4.dev7->sjtrade) (3.3)\n",
      "Installing collected packages: sentry-sdk, pysolace, shioaji, sjtrade\n",
      "  Attempting uninstall: sentry-sdk\n",
      "    Found existing installation: sentry-sdk 1.5.5\n",
      "    Uninstalling sentry-sdk-1.5.5:\n",
      "      Successfully uninstalled sentry-sdk-1.5.5\n",
      "  Attempting uninstall: pysolace\n",
      "    Found existing installation: pysolace 0.9.11\n",
      "    Uninstalling pysolace-0.9.11:\n",
      "      Successfully uninstalled pysolace-0.9.11\n",
      "  Attempting uninstall: shioaji\n",
      "    Found existing installation: shioaji 0.0.2.dev1\n",
      "    Uninstalling shioaji-0.0.2.dev1:\n",
      "      Successfully uninstalled shioaji-0.0.2.dev1\n",
      "Successfully installed pysolace-0.9.20 sentry-sdk-1.5.12 shioaji-0.3.5.dev0 sjtrade-0.1.1\n",
      "\u001b[33mWARNING: You are using pip version 22.0.3; however, version 22.1.2 is available.\n",
      "You should consider upgrading via the '/home/yvictor/.pyenv/versions/miniconda3-latest/bin/python -m pip install --upgrade pip' command.\u001b[0m\u001b[33m\n",
      "\u001b[0mNote: you may need to restart the kernel to use updated packages.\n"
     ]
    }
   ],
   "source": [
    "%pip install -U sjtrade"
   ]
  },
  {
   "cell_type": "markdown",
   "id": "84e3193a-e19f-41c8-95af-e731bf32ca46",
   "metadata": {},
   "source": [
    "### Get Start"
   ]
  },
  {
   "cell_type": "code",
   "execution_count": 12,
   "id": "36609bb7-2672-4ded-ba12-d5a1c971cb22",
   "metadata": {},
   "outputs": [],
   "source": [
    "import json\n",
    "from pathlib import Path\n",
    "p = Path(\"login.json\")\n",
    "login_kws = json.loads(p.read_text())"
   ]
  },
  {
   "cell_type": "code",
   "execution_count": 2,
   "id": "1b875f6c-32d6-4828-9712-cdab83046487",
   "metadata": {},
   "outputs": [],
   "source": [
    "import shioaji as sj\n",
    "import sjtrade"
   ]
  },
  {
   "cell_type": "markdown",
   "id": "3bfa5e90-72dd-4122-a0c5-01cdef77d96c",
   "metadata": {},
   "source": [
    "##### Init Shioaji and SjTrader"
   ]
  },
  {
   "cell_type": "code",
   "execution_count": 13,
   "id": "83373803-758f-41fe-8dcd-55d2b69055b9",
   "metadata": {},
   "outputs": [
    {
     "name": "stdout",
     "output_type": "stream",
     "text": [
      "Response Code: 0 | Event Code: 0 | Info: host '203.66.91.161:80', IP 203.66.91.161:80 (host 1 of 1) (host connection attempt 1 of 1) (total connection attempt 1 of 1) | Event: Session up\n"
     ]
    }
   ],
   "source": [
    "api = sj.Shioaji()\n",
    "accounts = api.login(**login_kws)\n",
    "sjtrader = sjtrade.SJTrader(api)"
   ]
  },
  {
   "cell_type": "markdown",
   "id": "f2123373-148c-4909-aa66-20f4150d06f0",
   "metadata": {},
   "source": [
    "##### Set Position Filepath and Preview Position"
   ]
  },
  {
   "cell_type": "code",
   "execution_count": 31,
   "id": "a45fc441-c6d1-495a-a213-987c5bf8a345",
   "metadata": {},
   "outputs": [
    {
     "data": {
      "text/plain": [
       "{'1524': -18,\n",
       " '2359': 10,\n",
       " '3141': -2,\n",
       " '3265': 6,\n",
       " '4133': 6,\n",
       " '5608': -6,\n",
       " '6104': -1,\n",
       " '6470': -4}"
      ]
     },
     "execution_count": 31,
     "metadata": {},
     "output_type": "execute_result"
    }
   ],
   "source": [
    "sjtrader.position_filepath = \"position.txt\"\n",
    "sjtrade.io.file.read_position(sjtrader.position_filepath)"
   ]
  },
  {
   "cell_type": "markdown",
   "id": "acb80a6b-7c89-4576-9dea-97597cb05ea1",
   "metadata": {
    "tags": []
   },
   "source": [
    "##### Set entry_pct stop_profit_pct stop_loss_pct"
   ]
  },
  {
   "cell_type": "code",
   "execution_count": 26,
   "id": "36622980-4a67-4208-995a-83422f0159e1",
   "metadata": {},
   "outputs": [],
   "source": [
    "sjtrader.entry_pct = 0.05\n",
    "sjtrader.stop_profit_pct = 0.095\n",
    "sjtrader.stop_loss_pct = 0.09"
   ]
  },
  {
   "cell_type": "code",
   "execution_count": 24,
   "id": "720c1808-2b8c-407c-90ca-36d2e9e43dca",
   "metadata": {},
   "outputs": [],
   "source": [
    "sjtrader.start()"
   ]
  },
  {
   "cell_type": "markdown",
   "id": "c7633e9d-e4bd-496b-a893-f9358cb4f4d8",
   "metadata": {},
   "source": [
    "##### What do sjtrader start actually execute"
   ]
  },
  {
   "cell_type": "code",
   "execution_count": 25,
   "id": "f7da034d-dfde-4250-a84c-71d1863b64ed",
   "metadata": {},
   "outputs": [
    {
     "data": {
      "text/plain": [
       "\u001b[0;31mSignature:\u001b[0m \u001b[0msjtrader\u001b[0m\u001b[0;34m.\u001b[0m\u001b[0mstart\u001b[0m\u001b[0;34m(\u001b[0m\u001b[0;34m)\u001b[0m\u001b[0;34m\u001b[0m\u001b[0;34m\u001b[0m\u001b[0m\n",
       "\u001b[0;31mDocstring:\u001b[0m <no docstring>\n",
       "\u001b[0;31mSource:\u001b[0m   \n",
       "    \u001b[0;32mdef\u001b[0m \u001b[0mstart\u001b[0m\u001b[0;34m(\u001b[0m\u001b[0mself\u001b[0m\u001b[0;34m)\u001b[0m\u001b[0;34m:\u001b[0m\u001b[0;34m\u001b[0m\n",
       "\u001b[0;34m\u001b[0m        \u001b[0mpositions\u001b[0m \u001b[0;34m=\u001b[0m \u001b[0mread_position\u001b[0m\u001b[0;34m(\u001b[0m\u001b[0mself\u001b[0m\u001b[0;34m.\u001b[0m\u001b[0m_position_filepath\u001b[0m\u001b[0;34m)\u001b[0m\u001b[0;34m\u001b[0m\n",
       "\u001b[0;34m\u001b[0m        \u001b[0mself\u001b[0m\u001b[0;34m.\u001b[0m\u001b[0mapi\u001b[0m\u001b[0;34m.\u001b[0m\u001b[0mset_order_callback\u001b[0m\u001b[0;34m(\u001b[0m\u001b[0mself\u001b[0m\u001b[0;34m.\u001b[0m\u001b[0morder_deal_handler\u001b[0m\u001b[0;34m)\u001b[0m\u001b[0;34m\u001b[0m\n",
       "\u001b[0;34m\u001b[0m        \u001b[0msleep_until\u001b[0m\u001b[0;34m(\u001b[0m\u001b[0;36m8\u001b[0m\u001b[0;34m,\u001b[0m \u001b[0;36m45\u001b[0m\u001b[0;34m)\u001b[0m\u001b[0;34m\u001b[0m\n",
       "\u001b[0;34m\u001b[0m        \u001b[0mself\u001b[0m\u001b[0;34m.\u001b[0m\u001b[0mplace_entry_order\u001b[0m\u001b[0;34m(\u001b[0m\u001b[0mpositions\u001b[0m\u001b[0;34m,\u001b[0m \u001b[0mself\u001b[0m\u001b[0;34m.\u001b[0m\u001b[0mentry_pct\u001b[0m\u001b[0;34m)\u001b[0m\u001b[0;34m\u001b[0m\n",
       "\u001b[0;34m\u001b[0m        \u001b[0msleep_until\u001b[0m\u001b[0;34m(\u001b[0m\u001b[0;36m8\u001b[0m\u001b[0;34m,\u001b[0m \u001b[0;36m54\u001b[0m\u001b[0;34m,\u001b[0m \u001b[0;36m59\u001b[0m\u001b[0;34m)\u001b[0m\u001b[0;34m\u001b[0m\n",
       "\u001b[0;34m\u001b[0m        \u001b[0mself\u001b[0m\u001b[0;34m.\u001b[0m\u001b[0mapi\u001b[0m\u001b[0;34m.\u001b[0m\u001b[0mquote\u001b[0m\u001b[0;34m.\u001b[0m\u001b[0mset_on_tick_stk_v1_callback\u001b[0m\u001b[0;34m(\u001b[0m\u001b[0mself\u001b[0m\u001b[0;34m.\u001b[0m\u001b[0mcancel_preorder_handler\u001b[0m\u001b[0;34m)\u001b[0m\u001b[0;34m\u001b[0m\n",
       "\u001b[0;34m\u001b[0m        \u001b[0msleep_until\u001b[0m\u001b[0;34m(\u001b[0m\u001b[0;36m8\u001b[0m\u001b[0;34m,\u001b[0m \u001b[0;36m59\u001b[0m\u001b[0;34m,\u001b[0m \u001b[0;36m55\u001b[0m\u001b[0;34m)\u001b[0m\u001b[0;34m\u001b[0m\n",
       "\u001b[0;34m\u001b[0m        \u001b[0mself\u001b[0m\u001b[0;34m.\u001b[0m\u001b[0mapi\u001b[0m\u001b[0;34m.\u001b[0m\u001b[0mquote\u001b[0m\u001b[0;34m.\u001b[0m\u001b[0mset_on_tick_stk_v1_callback\u001b[0m\u001b[0;34m(\u001b[0m\u001b[0mself\u001b[0m\u001b[0;34m.\u001b[0m\u001b[0mintraday_handler\u001b[0m\u001b[0;34m)\u001b[0m\u001b[0;34m\u001b[0m\n",
       "\u001b[0;34m\u001b[0m        \u001b[0msleep_until\u001b[0m\u001b[0;34m(\u001b[0m\u001b[0;36m13\u001b[0m\u001b[0;34m,\u001b[0m \u001b[0;36m25\u001b[0m\u001b[0;34m,\u001b[0m \u001b[0;36m59\u001b[0m\u001b[0;34m)\u001b[0m\u001b[0;34m\u001b[0m\n",
       "\u001b[0;34m\u001b[0m        \u001b[0mself\u001b[0m\u001b[0;34m.\u001b[0m\u001b[0mopen_position_cover\u001b[0m\u001b[0;34m(\u001b[0m\u001b[0;34m)\u001b[0m\u001b[0;34m\u001b[0m\u001b[0;34m\u001b[0m\u001b[0m\n",
       "\u001b[0;31mFile:\u001b[0m      ~/.pyenv/versions/miniconda3-latest/lib/python3.7/site-packages/sjtrade/trader.py\n",
       "\u001b[0;31mType:\u001b[0m      method\n"
      ]
     },
     "metadata": {},
     "output_type": "display_data"
    }
   ],
   "source": [
    "sjtrader.start??"
   ]
  },
  {
   "cell_type": "code",
   "execution_count": null,
   "id": "97c5d928-de5a-488c-a5ce-05732f4c0ddd",
   "metadata": {},
   "outputs": [],
   "source": []
  }
 ],
 "metadata": {
  "kernelspec": {
   "display_name": "Python 3 (ipykernel)",
   "language": "python",
   "name": "python3"
  },
  "language_info": {
   "codemirror_mode": {
    "name": "ipython",
    "version": 3
   },
   "file_extension": ".py",
   "mimetype": "text/x-python",
   "name": "python",
   "nbconvert_exporter": "python",
   "pygments_lexer": "ipython3",
   "version": "3.7.11"
  }
 },
 "nbformat": 4,
 "nbformat_minor": 5
}
